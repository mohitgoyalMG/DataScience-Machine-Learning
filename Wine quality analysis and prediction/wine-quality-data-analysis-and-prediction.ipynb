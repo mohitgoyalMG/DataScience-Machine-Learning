{
 "cells": [
  {
   "cell_type": "markdown",
   "metadata": {
    "colab_type": "text",
    "id": "CWQ3rb0psxfN"
   },
   "source": [
    "# **About dataset**"
   ]
  },
  {
   "cell_type": "markdown",
   "metadata": {
    "colab_type": "text",
    "id": "tWjD264VldbO"
   },
   "source": [
    "This dataset is related to red variants of the Portuguese \"Vinho Verde\" wine. Due to privacy and logistic issues, only physicochemical (inputs) and sensory (the output) variables are available (e.g. there is no data about grape types, wine brand, wine selling price, etc.).\n",
    "\n",
    "These datasets can be viewed as classification tasks. The classes are ordered and not balanced (e.g. there are many more normal wines than excellent or poor ones). Outlier detection algorithms could be used to detect the few excellent or poor wines. Also, we are not sure if all input variables are relevant. So it could be interesting to test feature selection methods.\n",
    "\n",
    "Input variables (based on physicochemical tests):\n",
    "1. fixed acidity\n",
    "2. volatile acidity\n",
    "3. citric acid\n",
    "4. residual sugar\n",
    "5. chlorides\n",
    "6. free sulfur dioxide\n",
    "7. total sulfur dioxide\n",
    "8. density\n",
    "9. pH\n",
    "10. sulphates\n",
    "11. alcohol\n",
    "Output variable (based on sensory data):\n",
    "12. quality (score between 0 and 10)\n",
    "\n",
    "Our goal is to make a **machine learning** model that can predict the quality of wine based on the input variable (features) given above."
   ]
  },
  {
   "cell_type": "markdown",
   "metadata": {
    "colab_type": "text",
    "id": "TpKwWszun5zW"
   },
   "source": [
    "# **Viewing and understanding the basic details of our dataset**"
   ]
  },
  {
   "cell_type": "code",
   "execution_count": 1,
   "metadata": {
    "colab": {},
    "colab_type": "code",
    "id": "5kdLu5fCgddY"
   },
   "outputs": [],
   "source": [
    "#importing libraries that are used in this notebook\n",
    "import numpy as np\n",
    "import pandas as pd\n",
    "import matplotlib.pyplot as plt\n",
    "import seaborn as sns\n",
    "from scipy.stats import pearsonr\n",
    "from sklearn.model_selection import train_test_split as tts\n",
    "from sklearn.linear_model import LogisticRegression\n",
    "from sklearn.neighbors import KNeighborsClassifier as KNN\n",
    "from sklearn.svm import SVC\n",
    "from sklearn.naive_bayes import GaussianNB\n",
    "from sklearn.ensemble import RandomForestClassifier as RFC\n",
    "from sklearn.model_selection import cross_val_score\n",
    "from sklearn.metrics import confusion_matrix as CM"
   ]
  },
  {
   "cell_type": "code",
   "execution_count": 2,
   "metadata": {
    "colab": {
     "base_uri": "https://localhost:8080/",
     "height": 221
    },
    "colab_type": "code",
    "id": "B3b4SPmfgoxi",
    "outputId": "6cc05a48-2f33-4dd4-845b-76f417ebcef7"
   },
   "outputs": [
    {
     "data": {
      "text/html": [
       "<div>\n",
       "<style scoped>\n",
       "    .dataframe tbody tr th:only-of-type {\n",
       "        vertical-align: middle;\n",
       "    }\n",
       "\n",
       "    .dataframe tbody tr th {\n",
       "        vertical-align: top;\n",
       "    }\n",
       "\n",
       "    .dataframe thead th {\n",
       "        text-align: right;\n",
       "    }\n",
       "</style>\n",
       "<table border=\"1\" class=\"dataframe\">\n",
       "  <thead>\n",
       "    <tr style=\"text-align: right;\">\n",
       "      <th></th>\n",
       "      <th>fixed acidity</th>\n",
       "      <th>volatile acidity</th>\n",
       "      <th>citric acid</th>\n",
       "      <th>residual sugar</th>\n",
       "      <th>chlorides</th>\n",
       "      <th>free sulfur dioxide</th>\n",
       "      <th>total sulfur dioxide</th>\n",
       "      <th>density</th>\n",
       "      <th>pH</th>\n",
       "      <th>sulphates</th>\n",
       "      <th>alcohol</th>\n",
       "      <th>quality</th>\n",
       "    </tr>\n",
       "  </thead>\n",
       "  <tbody>\n",
       "    <tr>\n",
       "      <th>0</th>\n",
       "      <td>7.4</td>\n",
       "      <td>0.70</td>\n",
       "      <td>0.00</td>\n",
       "      <td>1.9</td>\n",
       "      <td>0.076</td>\n",
       "      <td>11.0</td>\n",
       "      <td>34.0</td>\n",
       "      <td>0.9978</td>\n",
       "      <td>3.51</td>\n",
       "      <td>0.56</td>\n",
       "      <td>9.4</td>\n",
       "      <td>5</td>\n",
       "    </tr>\n",
       "    <tr>\n",
       "      <th>1</th>\n",
       "      <td>7.8</td>\n",
       "      <td>0.88</td>\n",
       "      <td>0.00</td>\n",
       "      <td>2.6</td>\n",
       "      <td>0.098</td>\n",
       "      <td>25.0</td>\n",
       "      <td>67.0</td>\n",
       "      <td>0.9968</td>\n",
       "      <td>3.20</td>\n",
       "      <td>0.68</td>\n",
       "      <td>9.8</td>\n",
       "      <td>5</td>\n",
       "    </tr>\n",
       "    <tr>\n",
       "      <th>2</th>\n",
       "      <td>7.8</td>\n",
       "      <td>0.76</td>\n",
       "      <td>0.04</td>\n",
       "      <td>2.3</td>\n",
       "      <td>0.092</td>\n",
       "      <td>15.0</td>\n",
       "      <td>54.0</td>\n",
       "      <td>0.9970</td>\n",
       "      <td>3.26</td>\n",
       "      <td>0.65</td>\n",
       "      <td>9.8</td>\n",
       "      <td>5</td>\n",
       "    </tr>\n",
       "    <tr>\n",
       "      <th>3</th>\n",
       "      <td>11.2</td>\n",
       "      <td>0.28</td>\n",
       "      <td>0.56</td>\n",
       "      <td>1.9</td>\n",
       "      <td>0.075</td>\n",
       "      <td>17.0</td>\n",
       "      <td>60.0</td>\n",
       "      <td>0.9980</td>\n",
       "      <td>3.16</td>\n",
       "      <td>0.58</td>\n",
       "      <td>9.8</td>\n",
       "      <td>6</td>\n",
       "    </tr>\n",
       "    <tr>\n",
       "      <th>4</th>\n",
       "      <td>7.4</td>\n",
       "      <td>0.70</td>\n",
       "      <td>0.00</td>\n",
       "      <td>1.9</td>\n",
       "      <td>0.076</td>\n",
       "      <td>11.0</td>\n",
       "      <td>34.0</td>\n",
       "      <td>0.9978</td>\n",
       "      <td>3.51</td>\n",
       "      <td>0.56</td>\n",
       "      <td>9.4</td>\n",
       "      <td>5</td>\n",
       "    </tr>\n",
       "  </tbody>\n",
       "</table>\n",
       "</div>"
      ],
      "text/plain": [
       "   fixed acidity  volatile acidity  citric acid  residual sugar  chlorides  \\\n",
       "0            7.4              0.70         0.00             1.9      0.076   \n",
       "1            7.8              0.88         0.00             2.6      0.098   \n",
       "2            7.8              0.76         0.04             2.3      0.092   \n",
       "3           11.2              0.28         0.56             1.9      0.075   \n",
       "4            7.4              0.70         0.00             1.9      0.076   \n",
       "\n",
       "   free sulfur dioxide  total sulfur dioxide  density    pH  sulphates  \\\n",
       "0                 11.0                  34.0   0.9978  3.51       0.56   \n",
       "1                 25.0                  67.0   0.9968  3.20       0.68   \n",
       "2                 15.0                  54.0   0.9970  3.26       0.65   \n",
       "3                 17.0                  60.0   0.9980  3.16       0.58   \n",
       "4                 11.0                  34.0   0.9978  3.51       0.56   \n",
       "\n",
       "   alcohol  quality  \n",
       "0      9.4        5  \n",
       "1      9.8        5  \n",
       "2      9.8        5  \n",
       "3      9.8        6  \n",
       "4      9.4        5  "
      ]
     },
     "execution_count": 2,
     "metadata": {},
     "output_type": "execute_result"
    }
   ],
   "source": [
    "#importing dataset\n",
    "dataset = pd.read_csv('/kaggle/input/red-wine-quality-cortez-et-al-2009/winequality-red.csv')\n",
    "dataset.head()"
   ]
  },
  {
   "cell_type": "code",
   "execution_count": 3,
   "metadata": {
    "colab": {
     "base_uri": "https://localhost:8080/",
     "height": 34
    },
    "colab_type": "code",
    "id": "8UaOfL3tKpMg",
    "outputId": "c59aff1b-c2bf-4b28-97d0-e986f57093c0"
   },
   "outputs": [
    {
     "data": {
      "text/plain": [
       "(1599, 12)"
      ]
     },
     "execution_count": 3,
     "metadata": {},
     "output_type": "execute_result"
    }
   ],
   "source": [
    "dataset.shape"
   ]
  },
  {
   "cell_type": "code",
   "execution_count": 4,
   "metadata": {
    "colab": {
     "base_uri": "https://localhost:8080/",
     "height": 331
    },
    "colab_type": "code",
    "id": "OQFXVEimjE3z",
    "outputId": "91b200b8-215a-4e34-a9d2-2131823c1693"
   },
   "outputs": [
    {
     "data": {
      "text/html": [
       "<div>\n",
       "<style scoped>\n",
       "    .dataframe tbody tr th:only-of-type {\n",
       "        vertical-align: middle;\n",
       "    }\n",
       "\n",
       "    .dataframe tbody tr th {\n",
       "        vertical-align: top;\n",
       "    }\n",
       "\n",
       "    .dataframe thead th {\n",
       "        text-align: right;\n",
       "    }\n",
       "</style>\n",
       "<table border=\"1\" class=\"dataframe\">\n",
       "  <thead>\n",
       "    <tr style=\"text-align: right;\">\n",
       "      <th></th>\n",
       "      <th>fixed acidity</th>\n",
       "      <th>volatile acidity</th>\n",
       "      <th>citric acid</th>\n",
       "      <th>residual sugar</th>\n",
       "      <th>chlorides</th>\n",
       "      <th>free sulfur dioxide</th>\n",
       "      <th>total sulfur dioxide</th>\n",
       "      <th>density</th>\n",
       "      <th>pH</th>\n",
       "      <th>sulphates</th>\n",
       "      <th>alcohol</th>\n",
       "      <th>quality</th>\n",
       "    </tr>\n",
       "  </thead>\n",
       "  <tbody>\n",
       "    <tr>\n",
       "      <th>count</th>\n",
       "      <td>1599.000000</td>\n",
       "      <td>1599.000000</td>\n",
       "      <td>1599.000000</td>\n",
       "      <td>1599.000000</td>\n",
       "      <td>1599.000000</td>\n",
       "      <td>1599.000000</td>\n",
       "      <td>1599.000000</td>\n",
       "      <td>1599.000000</td>\n",
       "      <td>1599.000000</td>\n",
       "      <td>1599.000000</td>\n",
       "      <td>1599.000000</td>\n",
       "      <td>1599.000000</td>\n",
       "    </tr>\n",
       "    <tr>\n",
       "      <th>mean</th>\n",
       "      <td>8.319637</td>\n",
       "      <td>0.527821</td>\n",
       "      <td>0.270976</td>\n",
       "      <td>2.538806</td>\n",
       "      <td>0.087467</td>\n",
       "      <td>15.874922</td>\n",
       "      <td>46.467792</td>\n",
       "      <td>0.996747</td>\n",
       "      <td>3.311113</td>\n",
       "      <td>0.658149</td>\n",
       "      <td>10.422983</td>\n",
       "      <td>5.636023</td>\n",
       "    </tr>\n",
       "    <tr>\n",
       "      <th>std</th>\n",
       "      <td>1.741096</td>\n",
       "      <td>0.179060</td>\n",
       "      <td>0.194801</td>\n",
       "      <td>1.409928</td>\n",
       "      <td>0.047065</td>\n",
       "      <td>10.460157</td>\n",
       "      <td>32.895324</td>\n",
       "      <td>0.001887</td>\n",
       "      <td>0.154386</td>\n",
       "      <td>0.169507</td>\n",
       "      <td>1.065668</td>\n",
       "      <td>0.807569</td>\n",
       "    </tr>\n",
       "    <tr>\n",
       "      <th>min</th>\n",
       "      <td>4.600000</td>\n",
       "      <td>0.120000</td>\n",
       "      <td>0.000000</td>\n",
       "      <td>0.900000</td>\n",
       "      <td>0.012000</td>\n",
       "      <td>1.000000</td>\n",
       "      <td>6.000000</td>\n",
       "      <td>0.990070</td>\n",
       "      <td>2.740000</td>\n",
       "      <td>0.330000</td>\n",
       "      <td>8.400000</td>\n",
       "      <td>3.000000</td>\n",
       "    </tr>\n",
       "    <tr>\n",
       "      <th>25%</th>\n",
       "      <td>7.100000</td>\n",
       "      <td>0.390000</td>\n",
       "      <td>0.090000</td>\n",
       "      <td>1.900000</td>\n",
       "      <td>0.070000</td>\n",
       "      <td>7.000000</td>\n",
       "      <td>22.000000</td>\n",
       "      <td>0.995600</td>\n",
       "      <td>3.210000</td>\n",
       "      <td>0.550000</td>\n",
       "      <td>9.500000</td>\n",
       "      <td>5.000000</td>\n",
       "    </tr>\n",
       "    <tr>\n",
       "      <th>50%</th>\n",
       "      <td>7.900000</td>\n",
       "      <td>0.520000</td>\n",
       "      <td>0.260000</td>\n",
       "      <td>2.200000</td>\n",
       "      <td>0.079000</td>\n",
       "      <td>14.000000</td>\n",
       "      <td>38.000000</td>\n",
       "      <td>0.996750</td>\n",
       "      <td>3.310000</td>\n",
       "      <td>0.620000</td>\n",
       "      <td>10.200000</td>\n",
       "      <td>6.000000</td>\n",
       "    </tr>\n",
       "    <tr>\n",
       "      <th>75%</th>\n",
       "      <td>9.200000</td>\n",
       "      <td>0.640000</td>\n",
       "      <td>0.420000</td>\n",
       "      <td>2.600000</td>\n",
       "      <td>0.090000</td>\n",
       "      <td>21.000000</td>\n",
       "      <td>62.000000</td>\n",
       "      <td>0.997835</td>\n",
       "      <td>3.400000</td>\n",
       "      <td>0.730000</td>\n",
       "      <td>11.100000</td>\n",
       "      <td>6.000000</td>\n",
       "    </tr>\n",
       "    <tr>\n",
       "      <th>max</th>\n",
       "      <td>15.900000</td>\n",
       "      <td>1.580000</td>\n",
       "      <td>1.000000</td>\n",
       "      <td>15.500000</td>\n",
       "      <td>0.611000</td>\n",
       "      <td>72.000000</td>\n",
       "      <td>289.000000</td>\n",
       "      <td>1.003690</td>\n",
       "      <td>4.010000</td>\n",
       "      <td>2.000000</td>\n",
       "      <td>14.900000</td>\n",
       "      <td>8.000000</td>\n",
       "    </tr>\n",
       "  </tbody>\n",
       "</table>\n",
       "</div>"
      ],
      "text/plain": [
       "       fixed acidity  volatile acidity  citric acid  residual sugar  \\\n",
       "count    1599.000000       1599.000000  1599.000000     1599.000000   \n",
       "mean        8.319637          0.527821     0.270976        2.538806   \n",
       "std         1.741096          0.179060     0.194801        1.409928   \n",
       "min         4.600000          0.120000     0.000000        0.900000   \n",
       "25%         7.100000          0.390000     0.090000        1.900000   \n",
       "50%         7.900000          0.520000     0.260000        2.200000   \n",
       "75%         9.200000          0.640000     0.420000        2.600000   \n",
       "max        15.900000          1.580000     1.000000       15.500000   \n",
       "\n",
       "         chlorides  free sulfur dioxide  total sulfur dioxide      density  \\\n",
       "count  1599.000000          1599.000000           1599.000000  1599.000000   \n",
       "mean      0.087467            15.874922             46.467792     0.996747   \n",
       "std       0.047065            10.460157             32.895324     0.001887   \n",
       "min       0.012000             1.000000              6.000000     0.990070   \n",
       "25%       0.070000             7.000000             22.000000     0.995600   \n",
       "50%       0.079000            14.000000             38.000000     0.996750   \n",
       "75%       0.090000            21.000000             62.000000     0.997835   \n",
       "max       0.611000            72.000000            289.000000     1.003690   \n",
       "\n",
       "                pH    sulphates      alcohol      quality  \n",
       "count  1599.000000  1599.000000  1599.000000  1599.000000  \n",
       "mean      3.311113     0.658149    10.422983     5.636023  \n",
       "std       0.154386     0.169507     1.065668     0.807569  \n",
       "min       2.740000     0.330000     8.400000     3.000000  \n",
       "25%       3.210000     0.550000     9.500000     5.000000  \n",
       "50%       3.310000     0.620000    10.200000     6.000000  \n",
       "75%       3.400000     0.730000    11.100000     6.000000  \n",
       "max       4.010000     2.000000    14.900000     8.000000  "
      ]
     },
     "execution_count": 4,
     "metadata": {},
     "output_type": "execute_result"
    }
   ],
   "source": [
    "dataset.describe()"
   ]
  },
  {
   "cell_type": "markdown",
   "metadata": {
    "colab_type": "text",
    "id": "e1p5JuR1cUp4"
   },
   "source": [
    "From above data description we can conclude that value of density is almost similar throughout the dataset, because mean, min, 25%, 50%, 75% are all ~0.99.\n",
    "\n",
    "So I am choosing to drop density feature as it will not have much significance in predicting quality of wine."
   ]
  },
  {
   "cell_type": "code",
   "execution_count": 5,
   "metadata": {
    "colab": {},
    "colab_type": "code",
    "id": "SmRJqqSldCoo"
   },
   "outputs": [],
   "source": [
    "dataset.drop(labels='density', axis=1, inplace=True)"
   ]
  },
  {
   "cell_type": "markdown",
   "metadata": {
    "colab_type": "text",
    "id": "mreTDOTmI3pK"
   },
   "source": [
    "# **Checking for missing values**"
   ]
  },
  {
   "cell_type": "code",
   "execution_count": 6,
   "metadata": {
    "colab": {
     "base_uri": "https://localhost:8080/",
     "height": 221
    },
    "colab_type": "code",
    "id": "5I4vKFMohATN",
    "outputId": "813808f5-de1b-427f-d006-4dd214ca8b8c"
   },
   "outputs": [
    {
     "data": {
      "text/plain": [
       "fixed acidity           0\n",
       "volatile acidity        0\n",
       "citric acid             0\n",
       "residual sugar          0\n",
       "chlorides               0\n",
       "free sulfur dioxide     0\n",
       "total sulfur dioxide    0\n",
       "pH                      0\n",
       "sulphates               0\n",
       "alcohol                 0\n",
       "quality                 0\n",
       "dtype: int64"
      ]
     },
     "execution_count": 6,
     "metadata": {},
     "output_type": "execute_result"
    }
   ],
   "source": [
    "dataset.isnull().sum()"
   ]
  },
  {
   "cell_type": "markdown",
   "metadata": {
    "colab_type": "text",
    "id": "TFc4UdMkIbo5"
   },
   "source": [
    "There are no missing values in our dataset"
   ]
  },
  {
   "cell_type": "markdown",
   "metadata": {
    "colab_type": "text",
    "id": "mN6iGRiPU_I6"
   },
   "source": [
    "# **Checking for outliers in our dataset**"
   ]
  },
  {
   "cell_type": "code",
   "execution_count": 7,
   "metadata": {
    "colab": {
     "base_uri": "https://localhost:8080/",
     "height": 385
    },
    "colab_type": "code",
    "id": "cfdK44arVFmU",
    "outputId": "c5e6e59f-e426-4006-bfed-cc24f56bf7c6"
   },
   "outputs": [
    {
     "data": {
      "image/png": "[encoded data removed]",
      "text/plain": [
       "<Figure size 1080x360 with 10 Axes>"
      ]
     },
     "metadata": {
      "needs_background": "light"
     },
     "output_type": "display_data"
    }
   ],
   "source": [
    "#Plotting boxplots to see if there are any outliers in our data (considering data betwen 25th and 75th percentile as non outlier)\n",
    "fig, ax = plt.subplots(ncols=5, nrows=2, figsize=(15, 5))\n",
    "ax = ax.flatten()\n",
    "index = 0\n",
    "for i in dataset.columns:\n",
    "  if i != 'quality':\n",
    "    sns.boxplot(y=i, data=dataset, ax=ax[index])\n",
    "    index +=1\n",
    "plt.tight_layout(pad=0.4)\n",
    "plt.show()"
   ]
  },
  {
   "cell_type": "markdown",
   "metadata": {
    "colab_type": "text",
    "id": "BhqO929CV5eu"
   },
   "source": [
    "From the above box plots we can clearly see that there are outliers in all features.\n",
    "\n",
    "**BUT**\n",
    "\n",
    "Here I am choosing not remove/modify outliers as we are looking for accuracy to minute levels, not just some approximation — high quality wine may have very rare composition (hence outlier) from other average quality wines, so we can not remove or modify outlier values in out dataset."
   ]
  },
  {
   "cell_type": "markdown",
   "metadata": {
    "colab_type": "text",
    "id": "NByAC7mGIzrn"
   },
   "source": [
    "# **Feature Extraction**"
   ]
  },
  {
   "cell_type": "markdown",
   "metadata": {
    "colab_type": "text",
    "id": "8CsfxnY-JLFb"
   },
   "source": [
    "Plotting bar plots to see relation between each independent feature with dependent feature 'Quality'"
   ]
  },
  {
   "cell_type": "code",
   "execution_count": 8,
   "metadata": {
    "colab": {
     "base_uri": "https://localhost:8080/",
     "height": 400
    },
    "colab_type": "code",
    "id": "ecQW7lPgJFWT",
    "outputId": "248cca47-1fd4-4479-9f35-9d17815ab417"
   },
   "outputs": [
    {
     "data": {
      "text/plain": [
       "<function matplotlib.pyplot.show(*args, **kw)>"
      ]
     },
     "execution_count": 8,
     "metadata": {},
     "output_type": "execute_result"
    },
    {
     "data": {
      "image/png": "[encoded data removed]",
      "text/plain": [
       "<Figure size 1080x360 with 10 Axes>"
      ]
     },
     "metadata": {
      "needs_background": "light"
     },
     "output_type": "display_data"
    }
   ],
   "source": [
    "fig, ax = plt.subplots(ncols=5, nrows=2, figsize=(15, 5))\n",
    "ax = ax.flatten()\n",
    "index=0\n",
    "for i in dataset.columns:\n",
    "  if i != 'quality':\n",
    "    sns.barplot(x='quality', y=i, data=dataset, ax=ax[index])\n",
    "    index+=1\n",
    "plt.tight_layout(pad=0.4)\n",
    "plt.show"
   ]
  },
  {
   "cell_type": "markdown",
   "metadata": {
    "colab_type": "text",
    "id": "JeX6tBAePFnG"
   },
   "source": [
    "**From the above visualisation we derieve that:**\n",
    "1. Features fixed acidity and residual sugar might not give any specification to classify/predict the quality.\n",
    "2. Quality increases with\n",
    "    * decrease in volatile acidity.\n",
    "    * increase in citric acid.\n",
    "    * decrease in chlorides.\n",
    "    * decrease in pH.\n",
    "    * increase in sulphates.\n",
    "    * increase in alcohol.\n",
    "3. Free sulfur dioxide alone will not be able to predict the quality.\n",
    "4. Total sulfur dioxide alone will not be able to predict the quality.\n",
    "\n",
    "**Plotting correlation heatmap to verify the above statements**\n",
    "\n",
    "\n"
   ]
  },
  {
   "cell_type": "code",
   "execution_count": 9,
   "metadata": {
    "colab": {
     "base_uri": "https://localhost:8080/",
     "height": 882
    },
    "colab_type": "code",
    "id": "W6_UE5jjJFgM",
    "outputId": "a46061a7-506a-4ad1-db16-4423358e96c8"
   },
   "outputs": [
    {
     "data": {
      "image/png": "[encoded data removed]",
      "text/plain": [
       "<Figure size 720x720 with 2 Axes>"
      ]
     },
     "metadata": {
      "needs_background": "light"
     },
     "output_type": "display_data"
    },
    {
     "name": "stdout",
     "output_type": "stream",
     "text": [
      "Correlation of different features of our dataset with quality:\n",
      "fixed acidity : 0.1241\n",
      "volatile acidity : -0.3906\n",
      "citric acid : 0.2264\n",
      "residual sugar : 0.0137\n",
      "chlorides : -0.1289\n",
      "free sulfur dioxide : -0.0507\n",
      "total sulfur dioxide : -0.1851\n",
      "pH : -0.0577\n",
      "sulphates : 0.2514\n",
      "alcohol : 0.4762\n",
      "quality : 1.0000\n"
     ]
    }
   ],
   "source": [
    "plt.figure(figsize=(10, 10))\n",
    "sns.heatmap(dataset.corr(method='pearson'), annot=True, square=True)\n",
    "plt.show()\n",
    "\n",
    "print('Correlation of different features of our dataset with quality:')\n",
    "for i in dataset.columns:\n",
    "  corr, _ = pearsonr(dataset[i], dataset['quality'])\n",
    "  print('%s : %.4f' %(i,corr))"
   ]
  },
  {
   "cell_type": "code",
   "execution_count": 10,
   "metadata": {
    "colab": {
     "base_uri": "https://localhost:8080/",
     "height": 284
    },
    "colab_type": "code",
    "id": "MqkRh0Y3XML2",
    "outputId": "595beb46-c4bc-4dd8-c36a-6b90e6ace784"
   },
   "outputs": [
    {
     "name": "stdout",
     "output_type": "stream",
     "text": [
      "Another (more clear) view of correlations among features:\n",
      "\n"
     ]
    },
    {
     "data": {
      "text/html": [
       "<style  type=\"text/css\" >\n",
       "    #T_5b3d8584_1af7_11ea_a363_e58afa964d77row0_col0 {\n",
       "            background-color:  #b40426;\n",
       "            color:  #f1f1f1;\n",
       "        }    #T_5b3d8584_1af7_11ea_a363_e58afa964d77row0_col1 {\n",
       "            background-color:  #779af7;\n",
       "            color:  #000000;\n",
       "        }    #T_5b3d8584_1af7_11ea_a363_e58afa964d77row0_col2 {\n",
       "            background-color:  #f08a6c;\n",
       "            color:  #000000;\n",
       "        }    #T_5b3d8584_1af7_11ea_a363_e58afa964d77row0_col3 {\n",
       "            background-color:  #7699f6;\n",
       "            color:  #000000;\n",
       "        }    #T_5b3d8584_1af7_11ea_a363_e58afa964d77row0_col4 {\n",
       "            background-color:  #98b9ff;\n",
       "            color:  #000000;\n",
       "        }    #T_5b3d8584_1af7_11ea_a363_e58afa964d77row0_col5 {\n",
       "            background-color:  #3b4cc0;\n",
       "            color:  #f1f1f1;\n",
       "        }    #T_5b3d8584_1af7_11ea_a363_e58afa964d77row0_col6 {\n",
       "            background-color:  #516ddb;\n",
       "            color:  #000000;\n",
       "        }    #T_5b3d8584_1af7_11ea_a363_e58afa964d77row0_col7 {\n",
       "            background-color:  #3b4cc0;\n",
       "            color:  #f1f1f1;\n",
       "        }    #T_5b3d8584_1af7_11ea_a363_e58afa964d77row0_col8 {\n",
       "            background-color:  #b1cbfc;\n",
       "            color:  #000000;\n",
       "        }    #T_5b3d8584_1af7_11ea_a363_e58afa964d77row0_col9 {\n",
       "            background-color:  #6384eb;\n",
       "            color:  #000000;\n",
       "        }    #T_5b3d8584_1af7_11ea_a363_e58afa964d77row0_col10 {\n",
       "            background-color:  #b6cefa;\n",
       "            color:  #000000;\n",
       "        }    #T_5b3d8584_1af7_11ea_a363_e58afa964d77row1_col0 {\n",
       "            background-color:  #8db0fe;\n",
       "            color:  #000000;\n",
       "        }    #T_5b3d8584_1af7_11ea_a363_e58afa964d77row1_col1 {\n",
       "            background-color:  #b40426;\n",
       "            color:  #f1f1f1;\n",
       "        }    #T_5b3d8584_1af7_11ea_a363_e58afa964d77row1_col2 {\n",
       "            background-color:  #3b4cc0;\n",
       "            color:  #f1f1f1;\n",
       "        }    #T_5b3d8584_1af7_11ea_a363_e58afa964d77row1_col3 {\n",
       "            background-color:  #536edd;\n",
       "            color:  #000000;\n",
       "        }    #T_5b3d8584_1af7_11ea_a363_e58afa964d77row1_col4 {\n",
       "            background-color:  #90b2fe;\n",
       "            color:  #000000;\n",
       "        }    #T_5b3d8584_1af7_11ea_a363_e58afa964d77row1_col5 {\n",
       "            background-color:  #6180e9;\n",
       "            color:  #000000;\n",
       "        }    #T_5b3d8584_1af7_11ea_a363_e58afa964d77row1_col6 {\n",
       "            background-color:  #86a9fc;\n",
       "            color:  #000000;\n",
       "        }    #T_5b3d8584_1af7_11ea_a363_e58afa964d77row1_col7 {\n",
       "            background-color:  #e8d6cc;\n",
       "            color:  #000000;\n",
       "        }    #T_5b3d8584_1af7_11ea_a363_e58afa964d77row1_col8 {\n",
       "            background-color:  #3b4cc0;\n",
       "            color:  #f1f1f1;\n",
       "        }    #T_5b3d8584_1af7_11ea_a363_e58afa964d77row1_col9 {\n",
       "            background-color:  #3e51c5;\n",
       "            color:  #f1f1f1;\n",
       "        }    #T_5b3d8584_1af7_11ea_a363_e58afa964d77row1_col10 {\n",
       "            background-color:  #3b4cc0;\n",
       "            color:  #f1f1f1;\n",
       "        }    #T_5b3d8584_1af7_11ea_a363_e58afa964d77row2_col0 {\n",
       "            background-color:  #ec8165;\n",
       "            color:  #000000;\n",
       "        }    #T_5b3d8584_1af7_11ea_a363_e58afa964d77row2_col1 {\n",
       "            background-color:  #3b4cc0;\n",
       "            color:  #f1f1f1;\n",
       "        }    #T_5b3d8584_1af7_11ea_a363_e58afa964d77row2_col2 {\n",
       "            background-color:  #b40426;\n",
       "            color:  #f1f1f1;\n",
       "        }    #T_5b3d8584_1af7_11ea_a363_e58afa964d77row2_col3 {\n",
       "            background-color:  #80a3fa;\n",
       "            color:  #000000;\n",
       "        }    #T_5b3d8584_1af7_11ea_a363_e58afa964d77row2_col4 {\n",
       "            background-color:  #b6cefa;\n",
       "            color:  #000000;\n",
       "        }    #T_5b3d8584_1af7_11ea_a363_e58afa964d77row2_col5 {\n",
       "            background-color:  #536edd;\n",
       "            color:  #000000;\n",
       "        }    #T_5b3d8584_1af7_11ea_a363_e58afa964d77row2_col6 {\n",
       "            background-color:  #7b9ff9;\n",
       "            color:  #000000;\n",
       "        }    #T_5b3d8584_1af7_11ea_a363_e58afa964d77row2_col7 {\n",
       "            background-color:  #5470de;\n",
       "            color:  #000000;\n",
       "        }    #T_5b3d8584_1af7_11ea_a363_e58afa964d77row2_col8 {\n",
       "            background-color:  #d1dae9;\n",
       "            color:  #000000;\n",
       "        }    #T_5b3d8584_1af7_11ea_a363_e58afa964d77row2_col9 {\n",
       "            background-color:  #94b6ff;\n",
       "            color:  #000000;\n",
       "        }    #T_5b3d8584_1af7_11ea_a363_e58afa964d77row2_col10 {\n",
       "            background-color:  #cdd9ec;\n",
       "            color:  #000000;\n",
       "        }    #T_5b3d8584_1af7_11ea_a363_e58afa964d77row3_col0 {\n",
       "            background-color:  #d6dce4;\n",
       "            color:  #000000;\n",
       "        }    #T_5b3d8584_1af7_11ea_a363_e58afa964d77row3_col1 {\n",
       "            background-color:  #b2ccfb;\n",
       "            color:  #000000;\n",
       "        }    #T_5b3d8584_1af7_11ea_a363_e58afa964d77row3_col2 {\n",
       "            background-color:  #cedaeb;\n",
       "            color:  #000000;\n",
       "        }    #T_5b3d8584_1af7_11ea_a363_e58afa964d77row3_col3 {\n",
       "            background-color:  #b40426;\n",
       "            color:  #f1f1f1;\n",
       "        }    #T_5b3d8584_1af7_11ea_a363_e58afa964d77row3_col4 {\n",
       "            background-color:  #8db0fe;\n",
       "            color:  #000000;\n",
       "        }    #T_5b3d8584_1af7_11ea_a363_e58afa964d77row3_col5 {\n",
       "            background-color:  #9dbdff;\n",
       "            color:  #000000;\n",
       "        }    #T_5b3d8584_1af7_11ea_a363_e58afa964d77row3_col6 {\n",
       "            background-color:  #abc8fd;\n",
       "            color:  #000000;\n",
       "        }    #T_5b3d8584_1af7_11ea_a363_e58afa964d77row3_col7 {\n",
       "            background-color:  #b1cbfc;\n",
       "            color:  #000000;\n",
       "        }    #T_5b3d8584_1af7_11ea_a363_e58afa964d77row3_col8 {\n",
       "            background-color:  #80a3fa;\n",
       "            color:  #000000;\n",
       "        }    #T_5b3d8584_1af7_11ea_a363_e58afa964d77row3_col9 {\n",
       "            background-color:  #81a4fb;\n",
       "            color:  #000000;\n",
       "        }    #T_5b3d8584_1af7_11ea_a363_e58afa964d77row3_col10 {\n",
       "            background-color:  #9bbcff;\n",
       "            color:  #000000;\n",
       "        }    #T_5b3d8584_1af7_11ea_a363_e58afa964d77row4_col0 {\n",
       "            background-color:  #d3dbe7;\n",
       "            color:  #000000;\n",
       "        }    #T_5b3d8584_1af7_11ea_a363_e58afa964d77row4_col1 {\n",
       "            background-color:  #bfd3f6;\n",
       "            color:  #000000;\n",
       "        }    #T_5b3d8584_1af7_11ea_a363_e58afa964d77row4_col2 {\n",
       "            background-color:  #d9dce1;\n",
       "            color:  #000000;\n",
       "        }    #T_5b3d8584_1af7_11ea_a363_e58afa964d77row4_col3 {\n",
       "            background-color:  #6384eb;\n",
       "            color:  #000000;\n",
       "        }    #T_5b3d8584_1af7_11ea_a363_e58afa964d77row4_col4 {\n",
       "            background-color:  #b40426;\n",
       "            color:  #f1f1f1;\n",
       "        }    #T_5b3d8584_1af7_11ea_a363_e58afa964d77row4_col5 {\n",
       "            background-color:  #6687ed;\n",
       "            color:  #000000;\n",
       "        }    #T_5b3d8584_1af7_11ea_a363_e58afa964d77row4_col6 {\n",
       "            background-color:  #7ea1fa;\n",
       "            color:  #000000;\n",
       "        }    #T_5b3d8584_1af7_11ea_a363_e58afa964d77row4_col7 {\n",
       "            background-color:  #8caffe;\n",
       "            color:  #000000;\n",
       "        }    #T_5b3d8584_1af7_11ea_a363_e58afa964d77row4_col8 {\n",
       "            background-color:  #dddcdc;\n",
       "            color:  #000000;\n",
       "        }    #T_5b3d8584_1af7_11ea_a363_e58afa964d77row4_col9 {\n",
       "            background-color:  #3b4cc0;\n",
       "            color:  #f1f1f1;\n",
       "        }    #T_5b3d8584_1af7_11ea_a363_e58afa964d77row4_col10 {\n",
       "            background-color:  #779af7;\n",
       "            color:  #000000;\n",
       "        }    #T_5b3d8584_1af7_11ea_a363_e58afa964d77row5_col0 {\n",
       "            background-color:  #a3c2fe;\n",
       "            color:  #000000;\n",
       "        }    #T_5b3d8584_1af7_11ea_a363_e58afa964d77row5_col1 {\n",
       "            background-color:  #afcafc;\n",
       "            color:  #000000;\n",
       "        }    #T_5b3d8584_1af7_11ea_a363_e58afa964d77row5_col2 {\n",
       "            background-color:  #a5c3fe;\n",
       "            color:  #000000;\n",
       "        }    #T_5b3d8584_1af7_11ea_a363_e58afa964d77row5_col3 {\n",
       "            background-color:  #8db0fe;\n",
       "            color:  #000000;\n",
       "        }    #T_5b3d8584_1af7_11ea_a363_e58afa964d77row5_col4 {\n",
       "            background-color:  #80a3fa;\n",
       "            color:  #000000;\n",
       "        }    #T_5b3d8584_1af7_11ea_a363_e58afa964d77row5_col5 {\n",
       "            background-color:  #b40426;\n",
       "            color:  #f1f1f1;\n",
       "        }    #T_5b3d8584_1af7_11ea_a363_e58afa964d77row5_col6 {\n",
       "            background-color:  #f6a385;\n",
       "            color:  #000000;\n",
       "        }    #T_5b3d8584_1af7_11ea_a363_e58afa964d77row5_col7 {\n",
       "            background-color:  #cedaeb;\n",
       "            color:  #000000;\n",
       "        }    #T_5b3d8584_1af7_11ea_a363_e58afa964d77row5_col8 {\n",
       "            background-color:  #8caffe;\n",
       "            color:  #000000;\n",
       "        }    #T_5b3d8584_1af7_11ea_a363_e58afa964d77row5_col9 {\n",
       "            background-color:  #6180e9;\n",
       "            color:  #000000;\n",
       "        }    #T_5b3d8584_1af7_11ea_a363_e58afa964d77row5_col10 {\n",
       "            background-color:  #8badfd;\n",
       "            color:  #000000;\n",
       "        }    #T_5b3d8584_1af7_11ea_a363_e58afa964d77row6_col0 {\n",
       "            background-color:  #abc8fd;\n",
       "            color:  #000000;\n",
       "        }    #T_5b3d8584_1af7_11ea_a363_e58afa964d77row6_col1 {\n",
       "            background-color:  #c1d4f4;\n",
       "            color:  #000000;\n",
       "        }    #T_5b3d8584_1af7_11ea_a363_e58afa964d77row6_col2 {\n",
       "            background-color:  #b9d0f9;\n",
       "            color:  #000000;\n",
       "        }    #T_5b3d8584_1af7_11ea_a363_e58afa964d77row6_col3 {\n",
       "            background-color:  #93b5fe;\n",
       "            color:  #000000;\n",
       "        }    #T_5b3d8584_1af7_11ea_a363_e58afa964d77row6_col4 {\n",
       "            background-color:  #8caffe;\n",
       "            color:  #000000;\n",
       "        }    #T_5b3d8584_1af7_11ea_a363_e58afa964d77row6_col5 {\n",
       "            background-color:  #f7a889;\n",
       "            color:  #000000;\n",
       "        }    #T_5b3d8584_1af7_11ea_a363_e58afa964d77row6_col6 {\n",
       "            background-color:  #b40426;\n",
       "            color:  #f1f1f1;\n",
       "        }    #T_5b3d8584_1af7_11ea_a363_e58afa964d77row6_col7 {\n",
       "            background-color:  #b5cdfa;\n",
       "            color:  #000000;\n",
       "        }    #T_5b3d8584_1af7_11ea_a363_e58afa964d77row6_col8 {\n",
       "            background-color:  #89acfd;\n",
       "            color:  #000000;\n",
       "        }    #T_5b3d8584_1af7_11ea_a363_e58afa964d77row6_col9 {\n",
       "            background-color:  #3e51c5;\n",
       "            color:  #f1f1f1;\n",
       "        }    #T_5b3d8584_1af7_11ea_a363_e58afa964d77row6_col10 {\n",
       "            background-color:  #688aef;\n",
       "            color:  #000000;\n",
       "        }    #T_5b3d8584_1af7_11ea_a363_e58afa964d77row7_col0 {\n",
       "            background-color:  #3b4cc0;\n",
       "            color:  #f1f1f1;\n",
       "        }    #T_5b3d8584_1af7_11ea_a363_e58afa964d77row7_col1 {\n",
       "            background-color:  #dedcdb;\n",
       "            color:  #000000;\n",
       "        }    #T_5b3d8584_1af7_11ea_a363_e58afa964d77row7_col2 {\n",
       "            background-color:  #3c4ec2;\n",
       "            color:  #f1f1f1;\n",
       "        }    #T_5b3d8584_1af7_11ea_a363_e58afa964d77row7_col3 {\n",
       "            background-color:  #3b4cc0;\n",
       "            color:  #f1f1f1;\n",
       "        }    #T_5b3d8584_1af7_11ea_a363_e58afa964d77row7_col4 {\n",
       "            background-color:  #3b4cc0;\n",
       "            color:  #f1f1f1;\n",
       "        }    #T_5b3d8584_1af7_11ea_a363_e58afa964d77row7_col5 {\n",
       "            background-color:  #799cf8;\n",
       "            color:  #000000;\n",
       "        }    #T_5b3d8584_1af7_11ea_a363_e58afa964d77row7_col6 {\n",
       "            background-color:  #5e7de7;\n",
       "            color:  #000000;\n",
       "        }    #T_5b3d8584_1af7_11ea_a363_e58afa964d77row7_col7 {\n",
       "            background-color:  #b40426;\n",
       "            color:  #f1f1f1;\n",
       "        }    #T_5b3d8584_1af7_11ea_a363_e58afa964d77row7_col8 {\n",
       "            background-color:  #4a63d3;\n",
       "            color:  #f1f1f1;\n",
       "        }    #T_5b3d8584_1af7_11ea_a363_e58afa964d77row7_col9 {\n",
       "            background-color:  #afcafc;\n",
       "            color:  #000000;\n",
       "        }    #T_5b3d8584_1af7_11ea_a363_e58afa964d77row7_col10 {\n",
       "            background-color:  #89acfd;\n",
       "            color:  #000000;\n",
       "        }    #T_5b3d8584_1af7_11ea_a363_e58afa964d77row8_col0 {\n",
       "            background-color:  #e0dbd8;\n",
       "            color:  #000000;\n",
       "        }    #T_5b3d8584_1af7_11ea_a363_e58afa964d77row8_col1 {\n",
       "            background-color:  #779af7;\n",
       "            color:  #000000;\n",
       "        }    #T_5b3d8584_1af7_11ea_a363_e58afa964d77row8_col2 {\n",
       "            background-color:  #ead4c8;\n",
       "            color:  #000000;\n",
       "        }    #T_5b3d8584_1af7_11ea_a363_e58afa964d77row8_col3 {\n",
       "            background-color:  #5470de;\n",
       "            color:  #000000;\n",
       "        }    #T_5b3d8584_1af7_11ea_a363_e58afa964d77row8_col4 {\n",
       "            background-color:  #dddcdc;\n",
       "            color:  #000000;\n",
       "        }    #T_5b3d8584_1af7_11ea_a363_e58afa964d77row8_col5 {\n",
       "            background-color:  #7396f5;\n",
       "            color:  #000000;\n",
       "        }    #T_5b3d8584_1af7_11ea_a363_e58afa964d77row8_col6 {\n",
       "            background-color:  #7da0f9;\n",
       "            color:  #000000;\n",
       "        }    #T_5b3d8584_1af7_11ea_a363_e58afa964d77row8_col7 {\n",
       "            background-color:  #9abbff;\n",
       "            color:  #000000;\n",
       "        }    #T_5b3d8584_1af7_11ea_a363_e58afa964d77row8_col8 {\n",
       "            background-color:  #b40426;\n",
       "            color:  #f1f1f1;\n",
       "        }    #T_5b3d8584_1af7_11ea_a363_e58afa964d77row8_col9 {\n",
       "            background-color:  #8fb1fe;\n",
       "            color:  #000000;\n",
       "        }    #T_5b3d8584_1af7_11ea_a363_e58afa964d77row8_col10 {\n",
       "            background-color:  #d3dbe7;\n",
       "            color:  #000000;\n",
       "        }    #T_5b3d8584_1af7_11ea_a363_e58afa964d77row9_col0 {\n",
       "            background-color:  #b6cefa;\n",
       "            color:  #000000;\n",
       "        }    #T_5b3d8584_1af7_11ea_a363_e58afa964d77row9_col1 {\n",
       "            background-color:  #84a7fc;\n",
       "            color:  #000000;\n",
       "        }    #T_5b3d8584_1af7_11ea_a363_e58afa964d77row9_col2 {\n",
       "            background-color:  #c9d7f0;\n",
       "            color:  #000000;\n",
       "        }    #T_5b3d8584_1af7_11ea_a363_e58afa964d77row9_col3 {\n",
       "            background-color:  #5f7fe8;\n",
       "            color:  #000000;\n",
       "        }    #T_5b3d8584_1af7_11ea_a363_e58afa964d77row9_col4 {\n",
       "            background-color:  #445acc;\n",
       "            color:  #f1f1f1;\n",
       "        }    #T_5b3d8584_1af7_11ea_a363_e58afa964d77row9_col5 {\n",
       "            background-color:  #506bda;\n",
       "            color:  #000000;\n",
       "        }    #T_5b3d8584_1af7_11ea_a363_e58afa964d77row9_col6 {\n",
       "            background-color:  #3b4cc0;\n",
       "            color:  #f1f1f1;\n",
       "        }    #T_5b3d8584_1af7_11ea_a363_e58afa964d77row9_col7 {\n",
       "            background-color:  #e4d9d2;\n",
       "            color:  #000000;\n",
       "        }    #T_5b3d8584_1af7_11ea_a363_e58afa964d77row9_col8 {\n",
       "            background-color:  #97b8ff;\n",
       "            color:  #000000;\n",
       "        }    #T_5b3d8584_1af7_11ea_a363_e58afa964d77row9_col9 {\n",
       "            background-color:  #b40426;\n",
       "            color:  #f1f1f1;\n",
       "        }    #T_5b3d8584_1af7_11ea_a363_e58afa964d77row9_col10 {\n",
       "            background-color:  #f4c5ad;\n",
       "            color:  #000000;\n",
       "        }    #T_5b3d8584_1af7_11ea_a363_e58afa964d77row10_col0 {\n",
       "            background-color:  #d7dce3;\n",
       "            color:  #000000;\n",
       "        }    #T_5b3d8584_1af7_11ea_a363_e58afa964d77row10_col1 {\n",
       "            background-color:  #5a78e4;\n",
       "            color:  #000000;\n",
       "        }    #T_5b3d8584_1af7_11ea_a363_e58afa964d77row10_col2 {\n",
       "            background-color:  #dddcdc;\n",
       "            color:  #000000;\n",
       "        }    #T_5b3d8584_1af7_11ea_a363_e58afa964d77row10_col3 {\n",
       "            background-color:  #5673e0;\n",
       "            color:  #000000;\n",
       "        }    #T_5b3d8584_1af7_11ea_a363_e58afa964d77row10_col4 {\n",
       "            background-color:  #5b7ae5;\n",
       "            color:  #000000;\n",
       "        }    #T_5b3d8584_1af7_11ea_a363_e58afa964d77row10_col5 {\n",
       "            background-color:  #5572df;\n",
       "            color:  #000000;\n",
       "        }    #T_5b3d8584_1af7_11ea_a363_e58afa964d77row10_col6 {\n",
       "            background-color:  #3f53c6;\n",
       "            color:  #f1f1f1;\n",
       "        }    #T_5b3d8584_1af7_11ea_a363_e58afa964d77row10_col7 {\n",
       "            background-color:  #b7cff9;\n",
       "            color:  #000000;\n",
       "        }    #T_5b3d8584_1af7_11ea_a363_e58afa964d77row10_col8 {\n",
       "            background-color:  #c3d5f4;\n",
       "            color:  #000000;\n",
       "        }    #T_5b3d8584_1af7_11ea_a363_e58afa964d77row10_col9 {\n",
       "            background-color:  #edd1c2;\n",
       "            color:  #000000;\n",
       "        }    #T_5b3d8584_1af7_11ea_a363_e58afa964d77row10_col10 {\n",
       "            background-color:  #b40426;\n",
       "            color:  #f1f1f1;\n",
       "        }</style><table id=\"T_5b3d8584_1af7_11ea_a363_e58afa964d77\" ><thead>    <tr>        <th class=\"blank level0\" ></th>        <th class=\"col_heading level0 col0\" >fixed acidity</th>        <th class=\"col_heading level0 col1\" >volatile acidity</th>        <th class=\"col_heading level0 col2\" >citric acid</th>        <th class=\"col_heading level0 col3\" >residual sugar</th>        <th class=\"col_heading level0 col4\" >chlorides</th>        <th class=\"col_heading level0 col5\" >free sulfur dioxide</th>        <th class=\"col_heading level0 col6\" >total sulfur dioxide</th>        <th class=\"col_heading level0 col7\" >pH</th>        <th class=\"col_heading level0 col8\" >sulphates</th>        <th class=\"col_heading level0 col9\" >alcohol</th>        <th class=\"col_heading level0 col10\" >quality</th>    </tr></thead><tbody>\n",
       "                <tr>\n",
       "                        <th id=\"T_5b3d8584_1af7_11ea_a363_e58afa964d77level0_row0\" class=\"row_heading level0 row0\" >fixed acidity</th>\n",
       "                        <td id=\"T_5b3d8584_1af7_11ea_a363_e58afa964d77row0_col0\" class=\"data row0 col0\" >1</td>\n",
       "                        <td id=\"T_5b3d8584_1af7_11ea_a363_e58afa964d77row0_col1\" class=\"data row0 col1\" >-0.256131</td>\n",
       "                        <td id=\"T_5b3d8584_1af7_11ea_a363_e58afa964d77row0_col2\" class=\"data row0 col2\" >0.671703</td>\n",
       "                        <td id=\"T_5b3d8584_1af7_11ea_a363_e58afa964d77row0_col3\" class=\"data row0 col3\" >0.114777</td>\n",
       "                        <td id=\"T_5b3d8584_1af7_11ea_a363_e58afa964d77row0_col4\" class=\"data row0 col4\" >0.0937052</td>\n",
       "                        <td id=\"T_5b3d8584_1af7_11ea_a363_e58afa964d77row0_col5\" class=\"data row0 col5\" >-0.153794</td>\n",
       "                        <td id=\"T_5b3d8584_1af7_11ea_a363_e58afa964d77row0_col6\" class=\"data row0 col6\" >-0.113181</td>\n",
       "                        <td id=\"T_5b3d8584_1af7_11ea_a363_e58afa964d77row0_col7\" class=\"data row0 col7\" >-0.682978</td>\n",
       "                        <td id=\"T_5b3d8584_1af7_11ea_a363_e58afa964d77row0_col8\" class=\"data row0 col8\" >0.183006</td>\n",
       "                        <td id=\"T_5b3d8584_1af7_11ea_a363_e58afa964d77row0_col9\" class=\"data row0 col9\" >-0.0616683</td>\n",
       "                        <td id=\"T_5b3d8584_1af7_11ea_a363_e58afa964d77row0_col10\" class=\"data row0 col10\" >0.124052</td>\n",
       "            </tr>\n",
       "            <tr>\n",
       "                        <th id=\"T_5b3d8584_1af7_11ea_a363_e58afa964d77level0_row1\" class=\"row_heading level0 row1\" >volatile acidity</th>\n",
       "                        <td id=\"T_5b3d8584_1af7_11ea_a363_e58afa964d77row1_col0\" class=\"data row1 col0\" >-0.256131</td>\n",
       "                        <td id=\"T_5b3d8584_1af7_11ea_a363_e58afa964d77row1_col1\" class=\"data row1 col1\" >1</td>\n",
       "                        <td id=\"T_5b3d8584_1af7_11ea_a363_e58afa964d77row1_col2\" class=\"data row1 col2\" >-0.552496</td>\n",
       "                        <td id=\"T_5b3d8584_1af7_11ea_a363_e58afa964d77row1_col3\" class=\"data row1 col3\" >0.00191788</td>\n",
       "                        <td id=\"T_5b3d8584_1af7_11ea_a363_e58afa964d77row1_col4\" class=\"data row1 col4\" >0.0612978</td>\n",
       "                        <td id=\"T_5b3d8584_1af7_11ea_a363_e58afa964d77row1_col5\" class=\"data row1 col5\" >-0.0105038</td>\n",
       "                        <td id=\"T_5b3d8584_1af7_11ea_a363_e58afa964d77row1_col6\" class=\"data row1 col6\" >0.07647</td>\n",
       "                        <td id=\"T_5b3d8584_1af7_11ea_a363_e58afa964d77row1_col7\" class=\"data row1 col7\" >0.234937</td>\n",
       "                        <td id=\"T_5b3d8584_1af7_11ea_a363_e58afa964d77row1_col8\" class=\"data row1 col8\" >-0.260987</td>\n",
       "                        <td id=\"T_5b3d8584_1af7_11ea_a363_e58afa964d77row1_col9\" class=\"data row1 col9\" >-0.202288</td>\n",
       "                        <td id=\"T_5b3d8584_1af7_11ea_a363_e58afa964d77row1_col10\" class=\"data row1 col10\" >-0.390558</td>\n",
       "            </tr>\n",
       "            <tr>\n",
       "                        <th id=\"T_5b3d8584_1af7_11ea_a363_e58afa964d77level0_row2\" class=\"row_heading level0 row2\" >citric acid</th>\n",
       "                        <td id=\"T_5b3d8584_1af7_11ea_a363_e58afa964d77row2_col0\" class=\"data row2 col0\" >0.671703</td>\n",
       "                        <td id=\"T_5b3d8584_1af7_11ea_a363_e58afa964d77row2_col1\" class=\"data row2 col1\" >-0.552496</td>\n",
       "                        <td id=\"T_5b3d8584_1af7_11ea_a363_e58afa964d77row2_col2\" class=\"data row2 col2\" >1</td>\n",
       "                        <td id=\"T_5b3d8584_1af7_11ea_a363_e58afa964d77row2_col3\" class=\"data row2 col3\" >0.143577</td>\n",
       "                        <td id=\"T_5b3d8584_1af7_11ea_a363_e58afa964d77row2_col4\" class=\"data row2 col4\" >0.203823</td>\n",
       "                        <td id=\"T_5b3d8584_1af7_11ea_a363_e58afa964d77row2_col5\" class=\"data row2 col5\" >-0.0609781</td>\n",
       "                        <td id=\"T_5b3d8584_1af7_11ea_a363_e58afa964d77row2_col6\" class=\"data row2 col6\" >0.035533</td>\n",
       "                        <td id=\"T_5b3d8584_1af7_11ea_a363_e58afa964d77row2_col7\" class=\"data row2 col7\" >-0.541904</td>\n",
       "                        <td id=\"T_5b3d8584_1af7_11ea_a363_e58afa964d77row2_col8\" class=\"data row2 col8\" >0.31277</td>\n",
       "                        <td id=\"T_5b3d8584_1af7_11ea_a363_e58afa964d77row2_col9\" class=\"data row2 col9\" >0.109903</td>\n",
       "                        <td id=\"T_5b3d8584_1af7_11ea_a363_e58afa964d77row2_col10\" class=\"data row2 col10\" >0.226373</td>\n",
       "            </tr>\n",
       "            <tr>\n",
       "                        <th id=\"T_5b3d8584_1af7_11ea_a363_e58afa964d77level0_row3\" class=\"row_heading level0 row3\" >residual sugar</th>\n",
       "                        <td id=\"T_5b3d8584_1af7_11ea_a363_e58afa964d77row3_col0\" class=\"data row3 col0\" >0.114777</td>\n",
       "                        <td id=\"T_5b3d8584_1af7_11ea_a363_e58afa964d77row3_col1\" class=\"data row3 col1\" >0.00191788</td>\n",
       "                        <td id=\"T_5b3d8584_1af7_11ea_a363_e58afa964d77row3_col2\" class=\"data row3 col2\" >0.143577</td>\n",
       "                        <td id=\"T_5b3d8584_1af7_11ea_a363_e58afa964d77row3_col3\" class=\"data row3 col3\" >1</td>\n",
       "                        <td id=\"T_5b3d8584_1af7_11ea_a363_e58afa964d77row3_col4\" class=\"data row3 col4\" >0.0556095</td>\n",
       "                        <td id=\"T_5b3d8584_1af7_11ea_a363_e58afa964d77row3_col5\" class=\"data row3 col5\" >0.187049</td>\n",
       "                        <td id=\"T_5b3d8584_1af7_11ea_a363_e58afa964d77row3_col6\" class=\"data row3 col6\" >0.203028</td>\n",
       "                        <td id=\"T_5b3d8584_1af7_11ea_a363_e58afa964d77row3_col7\" class=\"data row3 col7\" >-0.0856524</td>\n",
       "                        <td id=\"T_5b3d8584_1af7_11ea_a363_e58afa964d77row3_col8\" class=\"data row3 col8\" >0.00552712</td>\n",
       "                        <td id=\"T_5b3d8584_1af7_11ea_a363_e58afa964d77row3_col9\" class=\"data row3 col9\" >0.0420754</td>\n",
       "                        <td id=\"T_5b3d8584_1af7_11ea_a363_e58afa964d77row3_col10\" class=\"data row3 col10\" >0.0137316</td>\n",
       "            </tr>\n",
       "            <tr>\n",
       "                        <th id=\"T_5b3d8584_1af7_11ea_a363_e58afa964d77level0_row4\" class=\"row_heading level0 row4\" >chlorides</th>\n",
       "                        <td id=\"T_5b3d8584_1af7_11ea_a363_e58afa964d77row4_col0\" class=\"data row4 col0\" >0.0937052</td>\n",
       "                        <td id=\"T_5b3d8584_1af7_11ea_a363_e58afa964d77row4_col1\" class=\"data row4 col1\" >0.0612978</td>\n",
       "                        <td id=\"T_5b3d8584_1af7_11ea_a363_e58afa964d77row4_col2\" class=\"data row4 col2\" >0.203823</td>\n",
       "                        <td id=\"T_5b3d8584_1af7_11ea_a363_e58afa964d77row4_col3\" class=\"data row4 col3\" >0.0556095</td>\n",
       "                        <td id=\"T_5b3d8584_1af7_11ea_a363_e58afa964d77row4_col4\" class=\"data row4 col4\" >1</td>\n",
       "                        <td id=\"T_5b3d8584_1af7_11ea_a363_e58afa964d77row4_col5\" class=\"data row4 col5\" >0.00556215</td>\n",
       "                        <td id=\"T_5b3d8584_1af7_11ea_a363_e58afa964d77row4_col6\" class=\"data row4 col6\" >0.0474005</td>\n",
       "                        <td id=\"T_5b3d8584_1af7_11ea_a363_e58afa964d77row4_col7\" class=\"data row4 col7\" >-0.265026</td>\n",
       "                        <td id=\"T_5b3d8584_1af7_11ea_a363_e58afa964d77row4_col8\" class=\"data row4 col8\" >0.37126</td>\n",
       "                        <td id=\"T_5b3d8584_1af7_11ea_a363_e58afa964d77row4_col9\" class=\"data row4 col9\" >-0.221141</td>\n",
       "                        <td id=\"T_5b3d8584_1af7_11ea_a363_e58afa964d77row4_col10\" class=\"data row4 col10\" >-0.128907</td>\n",
       "            </tr>\n",
       "            <tr>\n",
       "                        <th id=\"T_5b3d8584_1af7_11ea_a363_e58afa964d77level0_row5\" class=\"row_heading level0 row5\" >free sulfur dioxide</th>\n",
       "                        <td id=\"T_5b3d8584_1af7_11ea_a363_e58afa964d77row5_col0\" class=\"data row5 col0\" >-0.153794</td>\n",
       "                        <td id=\"T_5b3d8584_1af7_11ea_a363_e58afa964d77row5_col1\" class=\"data row5 col1\" >-0.0105038</td>\n",
       "                        <td id=\"T_5b3d8584_1af7_11ea_a363_e58afa964d77row5_col2\" class=\"data row5 col2\" >-0.0609781</td>\n",
       "                        <td id=\"T_5b3d8584_1af7_11ea_a363_e58afa964d77row5_col3\" class=\"data row5 col3\" >0.187049</td>\n",
       "                        <td id=\"T_5b3d8584_1af7_11ea_a363_e58afa964d77row5_col4\" class=\"data row5 col4\" >0.00556215</td>\n",
       "                        <td id=\"T_5b3d8584_1af7_11ea_a363_e58afa964d77row5_col5\" class=\"data row5 col5\" >1</td>\n",
       "                        <td id=\"T_5b3d8584_1af7_11ea_a363_e58afa964d77row5_col6\" class=\"data row5 col6\" >0.667666</td>\n",
       "                        <td id=\"T_5b3d8584_1af7_11ea_a363_e58afa964d77row5_col7\" class=\"data row5 col7\" >0.0703775</td>\n",
       "                        <td id=\"T_5b3d8584_1af7_11ea_a363_e58afa964d77row5_col8\" class=\"data row5 col8\" >0.0516576</td>\n",
       "                        <td id=\"T_5b3d8584_1af7_11ea_a363_e58afa964d77row5_col9\" class=\"data row5 col9\" >-0.0694084</td>\n",
       "                        <td id=\"T_5b3d8584_1af7_11ea_a363_e58afa964d77row5_col10\" class=\"data row5 col10\" >-0.0506561</td>\n",
       "            </tr>\n",
       "            <tr>\n",
       "                        <th id=\"T_5b3d8584_1af7_11ea_a363_e58afa964d77level0_row6\" class=\"row_heading level0 row6\" >total sulfur dioxide</th>\n",
       "                        <td id=\"T_5b3d8584_1af7_11ea_a363_e58afa964d77row6_col0\" class=\"data row6 col0\" >-0.113181</td>\n",
       "                        <td id=\"T_5b3d8584_1af7_11ea_a363_e58afa964d77row6_col1\" class=\"data row6 col1\" >0.07647</td>\n",
       "                        <td id=\"T_5b3d8584_1af7_11ea_a363_e58afa964d77row6_col2\" class=\"data row6 col2\" >0.035533</td>\n",
       "                        <td id=\"T_5b3d8584_1af7_11ea_a363_e58afa964d77row6_col3\" class=\"data row6 col3\" >0.203028</td>\n",
       "                        <td id=\"T_5b3d8584_1af7_11ea_a363_e58afa964d77row6_col4\" class=\"data row6 col4\" >0.0474005</td>\n",
       "                        <td id=\"T_5b3d8584_1af7_11ea_a363_e58afa964d77row6_col5\" class=\"data row6 col5\" >0.667666</td>\n",
       "                        <td id=\"T_5b3d8584_1af7_11ea_a363_e58afa964d77row6_col6\" class=\"data row6 col6\" >1</td>\n",
       "                        <td id=\"T_5b3d8584_1af7_11ea_a363_e58afa964d77row6_col7\" class=\"data row6 col7\" >-0.0664946</td>\n",
       "                        <td id=\"T_5b3d8584_1af7_11ea_a363_e58afa964d77row6_col8\" class=\"data row6 col8\" >0.0429468</td>\n",
       "                        <td id=\"T_5b3d8584_1af7_11ea_a363_e58afa964d77row6_col9\" class=\"data row6 col9\" >-0.205654</td>\n",
       "                        <td id=\"T_5b3d8584_1af7_11ea_a363_e58afa964d77row6_col10\" class=\"data row6 col10\" >-0.1851</td>\n",
       "            </tr>\n",
       "            <tr>\n",
       "                        <th id=\"T_5b3d8584_1af7_11ea_a363_e58afa964d77level0_row7\" class=\"row_heading level0 row7\" >pH</th>\n",
       "                        <td id=\"T_5b3d8584_1af7_11ea_a363_e58afa964d77row7_col0\" class=\"data row7 col0\" >-0.682978</td>\n",
       "                        <td id=\"T_5b3d8584_1af7_11ea_a363_e58afa964d77row7_col1\" class=\"data row7 col1\" >0.234937</td>\n",
       "                        <td id=\"T_5b3d8584_1af7_11ea_a363_e58afa964d77row7_col2\" class=\"data row7 col2\" >-0.541904</td>\n",
       "                        <td id=\"T_5b3d8584_1af7_11ea_a363_e58afa964d77row7_col3\" class=\"data row7 col3\" >-0.0856524</td>\n",
       "                        <td id=\"T_5b3d8584_1af7_11ea_a363_e58afa964d77row7_col4\" class=\"data row7 col4\" >-0.265026</td>\n",
       "                        <td id=\"T_5b3d8584_1af7_11ea_a363_e58afa964d77row7_col5\" class=\"data row7 col5\" >0.0703775</td>\n",
       "                        <td id=\"T_5b3d8584_1af7_11ea_a363_e58afa964d77row7_col6\" class=\"data row7 col6\" >-0.0664946</td>\n",
       "                        <td id=\"T_5b3d8584_1af7_11ea_a363_e58afa964d77row7_col7\" class=\"data row7 col7\" >1</td>\n",
       "                        <td id=\"T_5b3d8584_1af7_11ea_a363_e58afa964d77row7_col8\" class=\"data row7 col8\" >-0.196648</td>\n",
       "                        <td id=\"T_5b3d8584_1af7_11ea_a363_e58afa964d77row7_col9\" class=\"data row7 col9\" >0.205633</td>\n",
       "                        <td id=\"T_5b3d8584_1af7_11ea_a363_e58afa964d77row7_col10\" class=\"data row7 col10\" >-0.0577314</td>\n",
       "            </tr>\n",
       "            <tr>\n",
       "                        <th id=\"T_5b3d8584_1af7_11ea_a363_e58afa964d77level0_row8\" class=\"row_heading level0 row8\" >sulphates</th>\n",
       "                        <td id=\"T_5b3d8584_1af7_11ea_a363_e58afa964d77row8_col0\" class=\"data row8 col0\" >0.183006</td>\n",
       "                        <td id=\"T_5b3d8584_1af7_11ea_a363_e58afa964d77row8_col1\" class=\"data row8 col1\" >-0.260987</td>\n",
       "                        <td id=\"T_5b3d8584_1af7_11ea_a363_e58afa964d77row8_col2\" class=\"data row8 col2\" >0.31277</td>\n",
       "                        <td id=\"T_5b3d8584_1af7_11ea_a363_e58afa964d77row8_col3\" class=\"data row8 col3\" >0.00552712</td>\n",
       "                        <td id=\"T_5b3d8584_1af7_11ea_a363_e58afa964d77row8_col4\" class=\"data row8 col4\" >0.37126</td>\n",
       "                        <td id=\"T_5b3d8584_1af7_11ea_a363_e58afa964d77row8_col5\" class=\"data row8 col5\" >0.0516576</td>\n",
       "                        <td id=\"T_5b3d8584_1af7_11ea_a363_e58afa964d77row8_col6\" class=\"data row8 col6\" >0.0429468</td>\n",
       "                        <td id=\"T_5b3d8584_1af7_11ea_a363_e58afa964d77row8_col7\" class=\"data row8 col7\" >-0.196648</td>\n",
       "                        <td id=\"T_5b3d8584_1af7_11ea_a363_e58afa964d77row8_col8\" class=\"data row8 col8\" >1</td>\n",
       "                        <td id=\"T_5b3d8584_1af7_11ea_a363_e58afa964d77row8_col9\" class=\"data row8 col9\" >0.0935948</td>\n",
       "                        <td id=\"T_5b3d8584_1af7_11ea_a363_e58afa964d77row8_col10\" class=\"data row8 col10\" >0.251397</td>\n",
       "            </tr>\n",
       "            <tr>\n",
       "                        <th id=\"T_5b3d8584_1af7_11ea_a363_e58afa964d77level0_row9\" class=\"row_heading level0 row9\" >alcohol</th>\n",
       "                        <td id=\"T_5b3d8584_1af7_11ea_a363_e58afa964d77row9_col0\" class=\"data row9 col0\" >-0.0616683</td>\n",
       "                        <td id=\"T_5b3d8584_1af7_11ea_a363_e58afa964d77row9_col1\" class=\"data row9 col1\" >-0.202288</td>\n",
       "                        <td id=\"T_5b3d8584_1af7_11ea_a363_e58afa964d77row9_col2\" class=\"data row9 col2\" >0.109903</td>\n",
       "                        <td id=\"T_5b3d8584_1af7_11ea_a363_e58afa964d77row9_col3\" class=\"data row9 col3\" >0.0420754</td>\n",
       "                        <td id=\"T_5b3d8584_1af7_11ea_a363_e58afa964d77row9_col4\" class=\"data row9 col4\" >-0.221141</td>\n",
       "                        <td id=\"T_5b3d8584_1af7_11ea_a363_e58afa964d77row9_col5\" class=\"data row9 col5\" >-0.0694084</td>\n",
       "                        <td id=\"T_5b3d8584_1af7_11ea_a363_e58afa964d77row9_col6\" class=\"data row9 col6\" >-0.205654</td>\n",
       "                        <td id=\"T_5b3d8584_1af7_11ea_a363_e58afa964d77row9_col7\" class=\"data row9 col7\" >0.205633</td>\n",
       "                        <td id=\"T_5b3d8584_1af7_11ea_a363_e58afa964d77row9_col8\" class=\"data row9 col8\" >0.0935948</td>\n",
       "                        <td id=\"T_5b3d8584_1af7_11ea_a363_e58afa964d77row9_col9\" class=\"data row9 col9\" >1</td>\n",
       "                        <td id=\"T_5b3d8584_1af7_11ea_a363_e58afa964d77row9_col10\" class=\"data row9 col10\" >0.476166</td>\n",
       "            </tr>\n",
       "            <tr>\n",
       "                        <th id=\"T_5b3d8584_1af7_11ea_a363_e58afa964d77level0_row10\" class=\"row_heading level0 row10\" >quality</th>\n",
       "                        <td id=\"T_5b3d8584_1af7_11ea_a363_e58afa964d77row10_col0\" class=\"data row10 col0\" >0.124052</td>\n",
       "                        <td id=\"T_5b3d8584_1af7_11ea_a363_e58afa964d77row10_col1\" class=\"data row10 col1\" >-0.390558</td>\n",
       "                        <td id=\"T_5b3d8584_1af7_11ea_a363_e58afa964d77row10_col2\" class=\"data row10 col2\" >0.226373</td>\n",
       "                        <td id=\"T_5b3d8584_1af7_11ea_a363_e58afa964d77row10_col3\" class=\"data row10 col3\" >0.0137316</td>\n",
       "                        <td id=\"T_5b3d8584_1af7_11ea_a363_e58afa964d77row10_col4\" class=\"data row10 col4\" >-0.128907</td>\n",
       "                        <td id=\"T_5b3d8584_1af7_11ea_a363_e58afa964d77row10_col5\" class=\"data row10 col5\" >-0.0506561</td>\n",
       "                        <td id=\"T_5b3d8584_1af7_11ea_a363_e58afa964d77row10_col6\" class=\"data row10 col6\" >-0.1851</td>\n",
       "                        <td id=\"T_5b3d8584_1af7_11ea_a363_e58afa964d77row10_col7\" class=\"data row10 col7\" >-0.0577314</td>\n",
       "                        <td id=\"T_5b3d8584_1af7_11ea_a363_e58afa964d77row10_col8\" class=\"data row10 col8\" >0.251397</td>\n",
       "                        <td id=\"T_5b3d8584_1af7_11ea_a363_e58afa964d77row10_col9\" class=\"data row10 col9\" >0.476166</td>\n",
       "                        <td id=\"T_5b3d8584_1af7_11ea_a363_e58afa964d77row10_col10\" class=\"data row10 col10\" >1</td>\n",
       "            </tr>\n",
       "    </tbody></table>"
      ],
      "text/plain": [
       "<pandas.io.formats.style.Styler at 0x7f88d03dd080>"
      ]
     },
     "execution_count": 10,
     "metadata": {},
     "output_type": "execute_result"
    }
   ],
   "source": [
    "#for a better view this way can be used\n",
    "print('Another (more clear) view of correlations among features:\\n')\n",
    "dataset.corr().style.background_gradient(cmap=\"coolwarm\")"
   ]
  },
  {
   "cell_type": "markdown",
   "metadata": {
    "colab_type": "text",
    "id": "804mmdRget32"
   },
   "source": [
    "**From the above plots and values we can conclude:**\n",
    "1. volatile acidity, chlorides and ph are negatively correlated to quality -- hence our statement was right that quality increases with decrease in value of these features; and vice versa for other features.\n",
    "2. free sulfur dioxide and total sulfur dioxide are highly correlated to each other with correlation of 0.67.\n",
    "3. There are many features with correlation < 0.5 to quality, and may be removed from the dataset.\n",
    "\n",
    "BUT for the same reason as mentioned above in outlier section, that -- we are looking for accuracy to minute levels, not just some approximation — high quality wine may have very rare composition from other average quality wines, hence we need to take every feature in account while predicting quality of wine, so we can not remove or modify outlier values in out dataset."
   ]
  },
  {
   "cell_type": "markdown",
   "metadata": {
    "colab_type": "text",
    "id": "455GVKlKhWCK"
   },
   "source": [
    "# **Machine learning**\n",
    "\n",
    "Now implementing classification algorithms based machine learning models and selecting the best out of them based on some score."
   ]
  },
  {
   "cell_type": "markdown",
   "metadata": {
    "colab_type": "text",
    "id": "o49i1XN-xGBW"
   },
   "source": [
    "**First let's prepare our dataset for Machine Learning**"
   ]
  },
  {
   "cell_type": "code",
   "execution_count": 11,
   "metadata": {
    "colab": {
     "base_uri": "https://localhost:8080/",
     "height": 204
    },
    "colab_type": "code",
    "id": "CyhG9_4-JFkA",
    "outputId": "1b852e1a-9938-48b8-8173-1e2546348ffb"
   },
   "outputs": [
    {
     "data": {
      "text/html": [
       "<div>\n",
       "<style scoped>\n",
       "    .dataframe tbody tr th:only-of-type {\n",
       "        vertical-align: middle;\n",
       "    }\n",
       "\n",
       "    .dataframe tbody tr th {\n",
       "        vertical-align: top;\n",
       "    }\n",
       "\n",
       "    .dataframe thead th {\n",
       "        text-align: right;\n",
       "    }\n",
       "</style>\n",
       "<table border=\"1\" class=\"dataframe\">\n",
       "  <thead>\n",
       "    <tr style=\"text-align: right;\">\n",
       "      <th></th>\n",
       "      <th>fixed acidity</th>\n",
       "      <th>volatile acidity</th>\n",
       "      <th>citric acid</th>\n",
       "      <th>residual sugar</th>\n",
       "      <th>chlorides</th>\n",
       "      <th>free sulfur dioxide</th>\n",
       "      <th>total sulfur dioxide</th>\n",
       "      <th>pH</th>\n",
       "      <th>sulphates</th>\n",
       "      <th>alcohol</th>\n",
       "      <th>quality</th>\n",
       "    </tr>\n",
       "  </thead>\n",
       "  <tbody>\n",
       "    <tr>\n",
       "      <th>0</th>\n",
       "      <td>7.4</td>\n",
       "      <td>0.70</td>\n",
       "      <td>0.00</td>\n",
       "      <td>1.9</td>\n",
       "      <td>0.076</td>\n",
       "      <td>11.0</td>\n",
       "      <td>34.0</td>\n",
       "      <td>3.51</td>\n",
       "      <td>0.56</td>\n",
       "      <td>9.4</td>\n",
       "      <td>5</td>\n",
       "    </tr>\n",
       "    <tr>\n",
       "      <th>1</th>\n",
       "      <td>7.8</td>\n",
       "      <td>0.88</td>\n",
       "      <td>0.00</td>\n",
       "      <td>2.6</td>\n",
       "      <td>0.098</td>\n",
       "      <td>25.0</td>\n",
       "      <td>67.0</td>\n",
       "      <td>3.20</td>\n",
       "      <td>0.68</td>\n",
       "      <td>9.8</td>\n",
       "      <td>5</td>\n",
       "    </tr>\n",
       "    <tr>\n",
       "      <th>2</th>\n",
       "      <td>7.8</td>\n",
       "      <td>0.76</td>\n",
       "      <td>0.04</td>\n",
       "      <td>2.3</td>\n",
       "      <td>0.092</td>\n",
       "      <td>15.0</td>\n",
       "      <td>54.0</td>\n",
       "      <td>3.26</td>\n",
       "      <td>0.65</td>\n",
       "      <td>9.8</td>\n",
       "      <td>5</td>\n",
       "    </tr>\n",
       "    <tr>\n",
       "      <th>3</th>\n",
       "      <td>11.2</td>\n",
       "      <td>0.28</td>\n",
       "      <td>0.56</td>\n",
       "      <td>1.9</td>\n",
       "      <td>0.075</td>\n",
       "      <td>17.0</td>\n",
       "      <td>60.0</td>\n",
       "      <td>3.16</td>\n",
       "      <td>0.58</td>\n",
       "      <td>9.8</td>\n",
       "      <td>6</td>\n",
       "    </tr>\n",
       "    <tr>\n",
       "      <th>4</th>\n",
       "      <td>7.4</td>\n",
       "      <td>0.70</td>\n",
       "      <td>0.00</td>\n",
       "      <td>1.9</td>\n",
       "      <td>0.076</td>\n",
       "      <td>11.0</td>\n",
       "      <td>34.0</td>\n",
       "      <td>3.51</td>\n",
       "      <td>0.56</td>\n",
       "      <td>9.4</td>\n",
       "      <td>5</td>\n",
       "    </tr>\n",
       "  </tbody>\n",
       "</table>\n",
       "</div>"
      ],
      "text/plain": [
       "   fixed acidity  volatile acidity  citric acid  residual sugar  chlorides  \\\n",
       "0            7.4              0.70         0.00             1.9      0.076   \n",
       "1            7.8              0.88         0.00             2.6      0.098   \n",
       "2            7.8              0.76         0.04             2.3      0.092   \n",
       "3           11.2              0.28         0.56             1.9      0.075   \n",
       "4            7.4              0.70         0.00             1.9      0.076   \n",
       "\n",
       "   free sulfur dioxide  total sulfur dioxide    pH  sulphates  alcohol  \\\n",
       "0                 11.0                  34.0  3.51       0.56      9.4   \n",
       "1                 25.0                  67.0  3.20       0.68      9.8   \n",
       "2                 15.0                  54.0  3.26       0.65      9.8   \n",
       "3                 17.0                  60.0  3.16       0.58      9.8   \n",
       "4                 11.0                  34.0  3.51       0.56      9.4   \n",
       "\n",
       "   quality  \n",
       "0        5  \n",
       "1        5  \n",
       "2        5  \n",
       "3        6  \n",
       "4        5  "
      ]
     },
     "execution_count": 11,
     "metadata": {},
     "output_type": "execute_result"
    }
   ],
   "source": [
    "#our dataset\n",
    "dataset.head()"
   ]
  },
  {
   "cell_type": "markdown",
   "metadata": {
    "colab_type": "text",
    "id": "wmz0ICntjnxv"
   },
   "source": [
    "Dividing quality of wine in two buckets, ie. Good wine and Bad wine, and on the basis of this we will give our final result."
   ]
  },
  {
   "cell_type": "code",
   "execution_count": 12,
   "metadata": {
    "colab": {
     "base_uri": "https://localhost:8080/",
     "height": 204
    },
    "colab_type": "code",
    "id": "mZAfB8xbhDhq",
    "outputId": "f4b64dba-056a-451b-b181-98dcdd27fe95"
   },
   "outputs": [
    {
     "data": {
      "text/html": [
       "<div>\n",
       "<style scoped>\n",
       "    .dataframe tbody tr th:only-of-type {\n",
       "        vertical-align: middle;\n",
       "    }\n",
       "\n",
       "    .dataframe tbody tr th {\n",
       "        vertical-align: top;\n",
       "    }\n",
       "\n",
       "    .dataframe thead th {\n",
       "        text-align: right;\n",
       "    }\n",
       "</style>\n",
       "<table border=\"1\" class=\"dataframe\">\n",
       "  <thead>\n",
       "    <tr style=\"text-align: right;\">\n",
       "      <th></th>\n",
       "      <th>fixed acidity</th>\n",
       "      <th>volatile acidity</th>\n",
       "      <th>citric acid</th>\n",
       "      <th>residual sugar</th>\n",
       "      <th>chlorides</th>\n",
       "      <th>free sulfur dioxide</th>\n",
       "      <th>total sulfur dioxide</th>\n",
       "      <th>pH</th>\n",
       "      <th>sulphates</th>\n",
       "      <th>alcohol</th>\n",
       "      <th>quality</th>\n",
       "    </tr>\n",
       "  </thead>\n",
       "  <tbody>\n",
       "    <tr>\n",
       "      <th>0</th>\n",
       "      <td>7.4</td>\n",
       "      <td>0.70</td>\n",
       "      <td>0.00</td>\n",
       "      <td>1.9</td>\n",
       "      <td>0.076</td>\n",
       "      <td>11.0</td>\n",
       "      <td>34.0</td>\n",
       "      <td>3.51</td>\n",
       "      <td>0.56</td>\n",
       "      <td>9.4</td>\n",
       "      <td>bad</td>\n",
       "    </tr>\n",
       "    <tr>\n",
       "      <th>1</th>\n",
       "      <td>7.8</td>\n",
       "      <td>0.88</td>\n",
       "      <td>0.00</td>\n",
       "      <td>2.6</td>\n",
       "      <td>0.098</td>\n",
       "      <td>25.0</td>\n",
       "      <td>67.0</td>\n",
       "      <td>3.20</td>\n",
       "      <td>0.68</td>\n",
       "      <td>9.8</td>\n",
       "      <td>bad</td>\n",
       "    </tr>\n",
       "    <tr>\n",
       "      <th>2</th>\n",
       "      <td>7.8</td>\n",
       "      <td>0.76</td>\n",
       "      <td>0.04</td>\n",
       "      <td>2.3</td>\n",
       "      <td>0.092</td>\n",
       "      <td>15.0</td>\n",
       "      <td>54.0</td>\n",
       "      <td>3.26</td>\n",
       "      <td>0.65</td>\n",
       "      <td>9.8</td>\n",
       "      <td>bad</td>\n",
       "    </tr>\n",
       "    <tr>\n",
       "      <th>3</th>\n",
       "      <td>11.2</td>\n",
       "      <td>0.28</td>\n",
       "      <td>0.56</td>\n",
       "      <td>1.9</td>\n",
       "      <td>0.075</td>\n",
       "      <td>17.0</td>\n",
       "      <td>60.0</td>\n",
       "      <td>3.16</td>\n",
       "      <td>0.58</td>\n",
       "      <td>9.8</td>\n",
       "      <td>bad</td>\n",
       "    </tr>\n",
       "    <tr>\n",
       "      <th>4</th>\n",
       "      <td>7.4</td>\n",
       "      <td>0.70</td>\n",
       "      <td>0.00</td>\n",
       "      <td>1.9</td>\n",
       "      <td>0.076</td>\n",
       "      <td>11.0</td>\n",
       "      <td>34.0</td>\n",
       "      <td>3.51</td>\n",
       "      <td>0.56</td>\n",
       "      <td>9.4</td>\n",
       "      <td>bad</td>\n",
       "    </tr>\n",
       "  </tbody>\n",
       "</table>\n",
       "</div>"
      ],
      "text/plain": [
       "   fixed acidity  volatile acidity  citric acid  residual sugar  chlorides  \\\n",
       "0            7.4              0.70         0.00             1.9      0.076   \n",
       "1            7.8              0.88         0.00             2.6      0.098   \n",
       "2            7.8              0.76         0.04             2.3      0.092   \n",
       "3           11.2              0.28         0.56             1.9      0.075   \n",
       "4            7.4              0.70         0.00             1.9      0.076   \n",
       "\n",
       "   free sulfur dioxide  total sulfur dioxide    pH  sulphates  alcohol quality  \n",
       "0                 11.0                  34.0  3.51       0.56      9.4     bad  \n",
       "1                 25.0                  67.0  3.20       0.68      9.8     bad  \n",
       "2                 15.0                  54.0  3.26       0.65      9.8     bad  \n",
       "3                 17.0                  60.0  3.16       0.58      9.8     bad  \n",
       "4                 11.0                  34.0  3.51       0.56      9.4     bad  "
      ]
     },
     "execution_count": 12,
     "metadata": {},
     "output_type": "execute_result"
    }
   ],
   "source": [
    "bins = (2, 6.5, 8)\n",
    "group_names = ['bad', 'good']\n",
    "dataset['quality'] = pd.cut(dataset['quality'], bins = bins, labels = group_names)\n",
    "dataset.head()"
   ]
  },
  {
   "cell_type": "markdown",
   "metadata": {
    "colab_type": "text",
    "id": "IgPjY-nwk2kS"
   },
   "source": [
    "From the above code have divided the quality of wine in two buckets:\n",
    "* Bad wine : range 2 - 6.5\n",
    "* Good wine : range 6.5 - 8\n",
    "\n",
    "This can be changed as per the requiremnt of our client.\n",
    "\n",
    "Now we will map the values of bad and good to 0 and 1 respectively, as machine learning models can perform calculation only on numerical data."
   ]
  },
  {
   "cell_type": "code",
   "execution_count": 13,
   "metadata": {
    "colab": {
     "base_uri": "https://localhost:8080/",
     "height": 359
    },
    "colab_type": "code",
    "id": "4W-hrhAJl--6",
    "outputId": "3cceb9b0-dd20-4174-8bcd-974bc821748b"
   },
   "outputs": [
    {
     "data": {
      "text/html": [
       "<div>\n",
       "<style scoped>\n",
       "    .dataframe tbody tr th:only-of-type {\n",
       "        vertical-align: middle;\n",
       "    }\n",
       "\n",
       "    .dataframe tbody tr th {\n",
       "        vertical-align: top;\n",
       "    }\n",
       "\n",
       "    .dataframe thead th {\n",
       "        text-align: right;\n",
       "    }\n",
       "</style>\n",
       "<table border=\"1\" class=\"dataframe\">\n",
       "  <thead>\n",
       "    <tr style=\"text-align: right;\">\n",
       "      <th></th>\n",
       "      <th>fixed acidity</th>\n",
       "      <th>volatile acidity</th>\n",
       "      <th>citric acid</th>\n",
       "      <th>residual sugar</th>\n",
       "      <th>chlorides</th>\n",
       "      <th>free sulfur dioxide</th>\n",
       "      <th>total sulfur dioxide</th>\n",
       "      <th>pH</th>\n",
       "      <th>sulphates</th>\n",
       "      <th>alcohol</th>\n",
       "      <th>quality</th>\n",
       "    </tr>\n",
       "  </thead>\n",
       "  <tbody>\n",
       "    <tr>\n",
       "      <th>0</th>\n",
       "      <td>7.4</td>\n",
       "      <td>0.70</td>\n",
       "      <td>0.00</td>\n",
       "      <td>1.9</td>\n",
       "      <td>0.076</td>\n",
       "      <td>11.0</td>\n",
       "      <td>34.0</td>\n",
       "      <td>3.51</td>\n",
       "      <td>0.56</td>\n",
       "      <td>9.4</td>\n",
       "      <td>0</td>\n",
       "    </tr>\n",
       "    <tr>\n",
       "      <th>1</th>\n",
       "      <td>7.8</td>\n",
       "      <td>0.88</td>\n",
       "      <td>0.00</td>\n",
       "      <td>2.6</td>\n",
       "      <td>0.098</td>\n",
       "      <td>25.0</td>\n",
       "      <td>67.0</td>\n",
       "      <td>3.20</td>\n",
       "      <td>0.68</td>\n",
       "      <td>9.8</td>\n",
       "      <td>0</td>\n",
       "    </tr>\n",
       "    <tr>\n",
       "      <th>2</th>\n",
       "      <td>7.8</td>\n",
       "      <td>0.76</td>\n",
       "      <td>0.04</td>\n",
       "      <td>2.3</td>\n",
       "      <td>0.092</td>\n",
       "      <td>15.0</td>\n",
       "      <td>54.0</td>\n",
       "      <td>3.26</td>\n",
       "      <td>0.65</td>\n",
       "      <td>9.8</td>\n",
       "      <td>0</td>\n",
       "    </tr>\n",
       "    <tr>\n",
       "      <th>3</th>\n",
       "      <td>11.2</td>\n",
       "      <td>0.28</td>\n",
       "      <td>0.56</td>\n",
       "      <td>1.9</td>\n",
       "      <td>0.075</td>\n",
       "      <td>17.0</td>\n",
       "      <td>60.0</td>\n",
       "      <td>3.16</td>\n",
       "      <td>0.58</td>\n",
       "      <td>9.8</td>\n",
       "      <td>0</td>\n",
       "    </tr>\n",
       "    <tr>\n",
       "      <th>4</th>\n",
       "      <td>7.4</td>\n",
       "      <td>0.70</td>\n",
       "      <td>0.00</td>\n",
       "      <td>1.9</td>\n",
       "      <td>0.076</td>\n",
       "      <td>11.0</td>\n",
       "      <td>34.0</td>\n",
       "      <td>3.51</td>\n",
       "      <td>0.56</td>\n",
       "      <td>9.4</td>\n",
       "      <td>0</td>\n",
       "    </tr>\n",
       "    <tr>\n",
       "      <th>5</th>\n",
       "      <td>7.4</td>\n",
       "      <td>0.66</td>\n",
       "      <td>0.00</td>\n",
       "      <td>1.8</td>\n",
       "      <td>0.075</td>\n",
       "      <td>13.0</td>\n",
       "      <td>40.0</td>\n",
       "      <td>3.51</td>\n",
       "      <td>0.56</td>\n",
       "      <td>9.4</td>\n",
       "      <td>0</td>\n",
       "    </tr>\n",
       "    <tr>\n",
       "      <th>6</th>\n",
       "      <td>7.9</td>\n",
       "      <td>0.60</td>\n",
       "      <td>0.06</td>\n",
       "      <td>1.6</td>\n",
       "      <td>0.069</td>\n",
       "      <td>15.0</td>\n",
       "      <td>59.0</td>\n",
       "      <td>3.30</td>\n",
       "      <td>0.46</td>\n",
       "      <td>9.4</td>\n",
       "      <td>0</td>\n",
       "    </tr>\n",
       "    <tr>\n",
       "      <th>7</th>\n",
       "      <td>7.3</td>\n",
       "      <td>0.65</td>\n",
       "      <td>0.00</td>\n",
       "      <td>1.2</td>\n",
       "      <td>0.065</td>\n",
       "      <td>15.0</td>\n",
       "      <td>21.0</td>\n",
       "      <td>3.39</td>\n",
       "      <td>0.47</td>\n",
       "      <td>10.0</td>\n",
       "      <td>1</td>\n",
       "    </tr>\n",
       "    <tr>\n",
       "      <th>8</th>\n",
       "      <td>7.8</td>\n",
       "      <td>0.58</td>\n",
       "      <td>0.02</td>\n",
       "      <td>2.0</td>\n",
       "      <td>0.073</td>\n",
       "      <td>9.0</td>\n",
       "      <td>18.0</td>\n",
       "      <td>3.36</td>\n",
       "      <td>0.57</td>\n",
       "      <td>9.5</td>\n",
       "      <td>1</td>\n",
       "    </tr>\n",
       "    <tr>\n",
       "      <th>9</th>\n",
       "      <td>7.5</td>\n",
       "      <td>0.50</td>\n",
       "      <td>0.36</td>\n",
       "      <td>6.1</td>\n",
       "      <td>0.071</td>\n",
       "      <td>17.0</td>\n",
       "      <td>102.0</td>\n",
       "      <td>3.35</td>\n",
       "      <td>0.80</td>\n",
       "      <td>10.5</td>\n",
       "      <td>0</td>\n",
       "    </tr>\n",
       "  </tbody>\n",
       "</table>\n",
       "</div>"
      ],
      "text/plain": [
       "   fixed acidity  volatile acidity  citric acid  residual sugar  chlorides  \\\n",
       "0            7.4              0.70         0.00             1.9      0.076   \n",
       "1            7.8              0.88         0.00             2.6      0.098   \n",
       "2            7.8              0.76         0.04             2.3      0.092   \n",
       "3           11.2              0.28         0.56             1.9      0.075   \n",
       "4            7.4              0.70         0.00             1.9      0.076   \n",
       "5            7.4              0.66         0.00             1.8      0.075   \n",
       "6            7.9              0.60         0.06             1.6      0.069   \n",
       "7            7.3              0.65         0.00             1.2      0.065   \n",
       "8            7.8              0.58         0.02             2.0      0.073   \n",
       "9            7.5              0.50         0.36             6.1      0.071   \n",
       "\n",
       "   free sulfur dioxide  total sulfur dioxide    pH  sulphates  alcohol quality  \n",
       "0                 11.0                  34.0  3.51       0.56      9.4       0  \n",
       "1                 25.0                  67.0  3.20       0.68      9.8       0  \n",
       "2                 15.0                  54.0  3.26       0.65      9.8       0  \n",
       "3                 17.0                  60.0  3.16       0.58      9.8       0  \n",
       "4                 11.0                  34.0  3.51       0.56      9.4       0  \n",
       "5                 13.0                  40.0  3.51       0.56      9.4       0  \n",
       "6                 15.0                  59.0  3.30       0.46      9.4       0  \n",
       "7                 15.0                  21.0  3.39       0.47     10.0       1  \n",
       "8                  9.0                  18.0  3.36       0.57      9.5       1  \n",
       "9                 17.0                 102.0  3.35       0.80     10.5       0  "
      ]
     },
     "execution_count": 13,
     "metadata": {},
     "output_type": "execute_result"
    }
   ],
   "source": [
    "dataset['quality'] = dataset['quality'].map({'bad' : 0, 'good' : 1})\n",
    "dataset.head(10)"
   ]
  },
  {
   "cell_type": "markdown",
   "metadata": {
    "colab_type": "text",
    "id": "cUR1zKwWl-cw"
   },
   "source": [
    "Let's count and visualise the total number of different wine samples"
   ]
  },
  {
   "cell_type": "code",
   "execution_count": 14,
   "metadata": {
    "colab": {
     "base_uri": "https://localhost:8080/",
     "height": 419
    },
    "colab_type": "code",
    "id": "wn_DBIo2nbkl",
    "outputId": "497ac82f-5fe1-470f-ac0c-767dd4cbc507"
   },
   "outputs": [
    {
     "name": "stdout",
     "output_type": "stream",
     "text": [
      "0    1382\n",
      "1     217\n",
      "Name: quality, dtype: int64\n",
      "\n",
      "Visualisation of accuracies of differnt classification models\n"
     ]
    },
    {
     "data": {
      "image/png": "[encoded data removed]",
      "text/plain": [
       "<Figure size 1080x360 with 2 Axes>"
      ]
     },
     "metadata": {
      "needs_background": "light"
     },
     "output_type": "display_data"
    }
   ],
   "source": [
    "print(dataset['quality'].value_counts())\n",
    "fig, ax = plt.subplots(ncols=2, nrows=1, figsize=(15, 5))\n",
    "ax = ax.flatten()\n",
    "print('\\nVisualisation of accuracies of differnt classification models')\n",
    "dataset['quality'].value_counts().plot(x=0, y=1, kind='pie', figsize=(15,5), ax=ax[0])\n",
    "sns.countplot(dataset['quality'], ax=ax[1])\n",
    "plt.show()"
   ]
  },
  {
   "cell_type": "markdown",
   "metadata": {
    "colab_type": "text",
    "id": "VfmInzT8n6IC"
   },
   "source": [
    "Creating set of independent and dependent features"
   ]
  },
  {
   "cell_type": "code",
   "execution_count": 15,
   "metadata": {
    "colab": {},
    "colab_type": "code",
    "id": "q0ik7kf3iuI5"
   },
   "outputs": [],
   "source": [
    "X = dataset.iloc[:, :-1]\n",
    "Y = (dataset.iloc[:, 10])"
   ]
  },
  {
   "cell_type": "markdown",
   "metadata": {
    "colab_type": "text",
    "id": "cLNI__YXrjwq"
   },
   "source": [
    "Creating traing and test set"
   ]
  },
  {
   "cell_type": "code",
   "execution_count": 16,
   "metadata": {
    "colab": {},
    "colab_type": "code",
    "id": "NH7CUENApZFF"
   },
   "outputs": [],
   "source": [
    "X_train, X_test, Y_train, Y_test = tts(X, Y, test_size=0.20, random_state=0)"
   ]
  },
  {
   "cell_type": "markdown",
   "metadata": {
    "colab_type": "text",
    "id": "iAPTuNCYrvpL"
   },
   "source": [
    "Feature scaling, but not scaling dependent variable as it has catagorical data"
   ]
  },
  {
   "cell_type": "code",
   "execution_count": 17,
   "metadata": {
    "colab": {},
    "colab_type": "code",
    "id": "vaHEORXQpqhk"
   },
   "outputs": [],
   "source": [
    "from sklearn.preprocessing import StandardScaler as ss\n",
    "SS = ss()\n",
    "X_train = SS.fit_transform(X_train)\n",
    "X_test = SS.transform(X_test)"
   ]
  },
  {
   "cell_type": "markdown",
   "metadata": {
    "colab_type": "text",
    "id": "l_8u9A3QtY2j"
   },
   "source": [
    "**Now implementing machine learning models**"
   ]
  },
  {
   "cell_type": "markdown",
   "metadata": {
    "colab_type": "text",
    "id": "6rrCuuOCu5vs"
   },
   "source": [
    "Logistic Regression Classification"
   ]
  },
  {
   "cell_type": "code",
   "execution_count": 18,
   "metadata": {
    "colab": {
     "base_uri": "https://localhost:8080/",
     "height": 187
    },
    "colab_type": "code",
    "id": "EZ2LYYOtvAMv",
    "outputId": "0c647cb5-629c-45d6-bbe8-6521e8a606ae"
   },
   "outputs": [
    {
     "name": "stdout",
     "output_type": "stream",
     "text": [
      "     Actual  Predicted\n",
      "1109      0          0\n",
      "1032      0          0\n",
      "1002      1          1\n",
      "487       0          0\n",
      "979       0          0\n",
      "\n",
      "Confussion matrix:\n",
      "[[276  14]\n",
      " [ 18  12]]\n"
     ]
    }
   ],
   "source": [
    "logisticRegression = LogisticRegression(solver='lbfgs', random_state=0)\n",
    "logisticRegression.fit(X_train, Y_train)\n",
    "Y_pred_logisticRegression = logisticRegression.predict(X_test)\n",
    "Y_compare_logisticRegression = pd.DataFrame({'Actual' : Y_test, 'Predicted' : Y_pred_logisticRegression})\n",
    "print(Y_compare_logisticRegression.head())\n",
    "print('\\nConfussion matrix:')\n",
    "print(CM(Y_test, Y_pred_logisticRegression))"
   ]
  },
  {
   "cell_type": "markdown",
   "metadata": {
    "colab_type": "text",
    "id": "a6gJHixuAjsg"
   },
   "source": [
    "K-Nearest Neighbour Classification"
   ]
  },
  {
   "cell_type": "code",
   "execution_count": 19,
   "metadata": {
    "colab": {
     "base_uri": "https://localhost:8080/",
     "height": 187
    },
    "colab_type": "code",
    "id": "ewFnij-ovAQk",
    "outputId": "3da6896f-5c67-4293-bec4-ddce94d4a5c8"
   },
   "outputs": [
    {
     "name": "stdout",
     "output_type": "stream",
     "text": [
      "     Actual  Predicted\n",
      "1109      0          0\n",
      "1032      0          0\n",
      "1002      1          1\n",
      "487       0          0\n",
      "979       0          0\n",
      "\n",
      "Confussion matrix:\n",
      "[[280  10]\n",
      " [ 14  16]]\n"
     ]
    }
   ],
   "source": [
    "knn = KNN(n_neighbors=2, metric='minkowski', p=2,)\n",
    "knn.fit(X_train, Y_train)\n",
    "Y_pred_knn = knn.predict(X_test)\n",
    "Y_compare_knn = pd.DataFrame({'Actual' : Y_test, 'Predicted' : Y_pred_knn})\n",
    "print(Y_compare_knn.head())\n",
    "print('\\nConfussion matrix:')\n",
    "print(CM(Y_test, Y_pred_knn))"
   ]
  },
  {
   "cell_type": "markdown",
   "metadata": {
    "colab_type": "text",
    "id": "rHbNpjOhBm4t"
   },
   "source": [
    "Support Vector Classification"
   ]
  },
  {
   "cell_type": "code",
   "execution_count": 20,
   "metadata": {
    "colab": {
     "base_uri": "https://localhost:8080/",
     "height": 187
    },
    "colab_type": "code",
    "id": "rFIkDc-UvAW5",
    "outputId": "722c5678-2f02-49a2-b2fb-d6d92baed315"
   },
   "outputs": [
    {
     "name": "stdout",
     "output_type": "stream",
     "text": [
      "     Actual  Predicted\n",
      "1109      0          0\n",
      "1032      0          0\n",
      "1002      1          1\n",
      "487       0          0\n",
      "979       0          0\n",
      "\n",
      "Confussion matrix:\n",
      "[[285   5]\n",
      " [ 21   9]]\n"
     ]
    }
   ],
   "source": [
    "svc = SVC(kernel='rbf', gamma='scale', random_state=0)\n",
    "svc.fit(X_train, Y_train)\n",
    "Y_pred_svc = svc.predict(X_test)\n",
    "Y_compare_svc = pd.DataFrame({'Actual' : Y_test, 'Predicted' : Y_pred_svc})\n",
    "print(Y_compare_svc.head())\n",
    "print('\\nConfussion matrix:')\n",
    "print(CM(Y_test, Y_pred_svc))"
   ]
  },
  {
   "cell_type": "markdown",
   "metadata": {
    "colab_type": "text",
    "id": "R6odS07gEG8a"
   },
   "source": [
    "Naive Bayes Calssification"
   ]
  },
  {
   "cell_type": "code",
   "execution_count": 21,
   "metadata": {
    "colab": {
     "base_uri": "https://localhost:8080/",
     "height": 187
    },
    "colab_type": "code",
    "id": "-H6g4pmWvAoY",
    "outputId": "2231bfc0-8cf6-4382-96cb-51c394c12cba"
   },
   "outputs": [
    {
     "name": "stdout",
     "output_type": "stream",
     "text": [
      "     Actual  Predicted\n",
      "1109      0          0\n",
      "1032      0          0\n",
      "1002      1          1\n",
      "487       0          0\n",
      "979       0          1\n",
      "\n",
      "Confussion matrix:\n",
      "[[241  49]\n",
      " [  7  23]]\n"
     ]
    }
   ],
   "source": [
    "nb = GaussianNB()\n",
    "nb.fit(X_train, Y_train)\n",
    "Y_pred_nb = nb.predict(X_test)\n",
    "Y_compare_nb = pd.DataFrame({'Actual' : Y_test, 'Predicted' : Y_pred_nb})\n",
    "print(Y_compare_nb.head())\n",
    "print('\\nConfussion matrix:')\n",
    "print(CM(Y_test, Y_pred_nb))"
   ]
  },
  {
   "cell_type": "markdown",
   "metadata": {
    "colab_type": "text",
    "id": "o7cbu99IE5XH"
   },
   "source": [
    "Random Forrest Classification"
   ]
  },
  {
   "cell_type": "code",
   "execution_count": 22,
   "metadata": {
    "colab": {
     "base_uri": "https://localhost:8080/",
     "height": 187
    },
    "colab_type": "code",
    "id": "CbeGjc0AvAvW",
    "outputId": "291ecf4b-12f7-4644-f19e-bac25b258505"
   },
   "outputs": [
    {
     "name": "stdout",
     "output_type": "stream",
     "text": [
      "     Actual  Predicted\n",
      "1109      0          0\n",
      "1032      0          0\n",
      "1002      1          1\n",
      "487       0          0\n",
      "979       0          0\n",
      "\n",
      "Confussion matrix:\n",
      "[[283   7]\n",
      " [  9  21]]\n"
     ]
    }
   ],
   "source": [
    "rfc = RFC(n_estimators=25, criterion='gini', random_state=0,)\n",
    "rfc.fit(X_train, Y_train)\n",
    "Y_pred_rfc = rfc.predict(X_test)\n",
    "Y_compare_rfc = pd.DataFrame({'Actual' : Y_test, 'Predicted' : Y_pred_rfc})\n",
    "print(Y_compare_rfc.head())\n",
    "print('\\nConfussion matrix:')\n",
    "print(CM(Y_test, Y_pred_rfc))"
   ]
  },
  {
   "cell_type": "markdown",
   "metadata": {
    "colab_type": "text",
    "id": "kmWFu-EtIItu"
   },
   "source": [
    "**Checking accuracy of different classification models**"
   ]
  },
  {
   "cell_type": "code",
   "execution_count": 23,
   "metadata": {
    "colab": {
     "base_uri": "https://localhost:8080/",
     "height": 102
    },
    "colab_type": "code",
    "id": "7p-wzw6jrIoR",
    "outputId": "fe153ff0-f3c0-4de3-863e-9b2fb0144e91"
   },
   "outputs": [
    {
     "name": "stdout",
     "output_type": "stream",
     "text": [
      "Accuracy of Logistic Regression Classification model is 0.87\n",
      "Accuracy of K-Nearest Neighbour Classification model is 0.87\n",
      "Accuracy of Support Vector Classification model is 0.87\n",
      "Accuracy of Naive Bayes Classification model is 0.83\n",
      "Accuracy of Random Forrest Classification model is 0.90\n"
     ]
    }
   ],
   "source": [
    "#K-fold cross validation\n",
    "modelNames = ['Logistic Regression', 'K-Nearest Neighbour', 'Support Vector', 'Naive Bayes', 'Random Forrest']\n",
    "modelClassifiers = [logisticRegression, knn, svc, nb, rfc]\n",
    "models = pd.DataFrame({'modelNames' : modelNames, 'modelClassifiers' : modelClassifiers})\n",
    "counter=0\n",
    "score=[]\n",
    "for i in models['modelClassifiers']:\n",
    "  accuracy = cross_val_score(i, X_train, Y_train, scoring='accuracy', cv=10)\n",
    "  print('Accuracy of %s Classification model is %.2f' %(models.iloc[counter,0],accuracy.mean()))\n",
    "  score.append(accuracy.mean())\n",
    "  counter+=1"
   ]
  },
  {
   "cell_type": "code",
   "execution_count": 24,
   "metadata": {
    "colab": {
     "base_uri": "https://localhost:8080/",
     "height": 444
    },
    "colab_type": "code",
    "id": "cjTKLUvQIuUI",
    "outputId": "525ec300-55f4-4184-99dd-72ef9d4c14f9"
   },
   "outputs": [
    {
     "data": {
      "image/png": "[encoded data removed]",
      "text/plain": [
       "<Figure size 1080x360 with 1 Axes>"
      ]
     },
     "metadata": {
      "needs_background": "light"
     },
     "output_type": "display_data"
    }
   ],
   "source": [
    "pd.DataFrame({'Model Name' : modelNames,'Score' : score}).sort_values(by='Score', ascending=True).plot(x=0, y=1, kind='bar', figsize=(15,5), title='Comparison of accuracies of differnt classification models')\n",
    "plt.show()"
   ]
  },
  {
   "cell_type": "markdown",
   "metadata": {
    "colab_type": "text",
    "id": "22NA45hSXyjh"
   },
   "source": [
    "From the above scores and visualiations we can conclude that Random Forrest Classification model gives the best score and we can use it to predict the quality of wine for this particular problem.\n",
    "\n",
    "However other models like Logisgic Regression, KNN and SVC also have comparable score to Random Forrest and may also be used to predict quality of wine."
   ]
  },
  {
   "cell_type": "markdown",
   "metadata": {
    "colab_type": "text",
    "id": "y87nwwKFc-1j"
   },
   "source": [
    "# **Final Summary**"
   ]
  },
  {
   "cell_type": "markdown",
   "metadata": {
    "colab_type": "text",
    "id": "DqL08hXWksI_"
   },
   "source": [
    "From above data engineering and machine learning (classification) techniques we can conclude that:\n",
    "\n",
    "1. We have chosen not to remove outliers and extract the more relavant features form out dataset - as we were looking for accuracy to minute levels, not just some approximation (high quality wine may have very rare composition from other average quality wines)\n",
    "2. Random Forrest Classification model gave the best accuracy and can be considered as a good model for predictiong the quality of wine for this problem.\n",
    "3. However other models like Logisgic Regression, KNN and SVC also have comparable score to Random Forrest and may also be used to predict quality of wine.\n",
    "4. Naive Bayes model gave the least accuracy, which can be considered bad model to predict the quality of fine.\n",
    "5. Performance tuning using methods like Grid Search, etc. can be done to improve the accuracy of these models. So, accuracy of these models will improve and we might get another best model for our problem.\n",
    "6. We might(will) get different results if we remove outliers and consider feature extraction.\n",
    "\n",
    "Finally I would like to end this notebook the fact, that no Data Science technique is perfect, there are many other ways/ models to get better results and there is always scope for imporvements."
   ]
  },
  {
   "cell_type": "markdown",
   "metadata": {},
   "source": [
    "**Please comment your suggestions**\n",
    "\n",
    "**Please upvote if this notebook is helpful**"
   ]
  }
 ],
 "metadata": {
  "accelerator": "GPU",
  "colab": {
   "collapsed_sections": [
    "CWQ3rb0psxfN",
    "mreTDOTmI3pK",
    "mN6iGRiPU_I6",
    "NByAC7mGIzrn",
    "y87nwwKFc-1j"
   ],
   "name": "Wine Quality (Red wine).ipynb",
   "provenance": []
  },
  "kernelspec": {
   "display_name": "Python 3",
   "name": "python3"
  },
  "language_info": {
   "codemirror_mode": {
    "name": "ipython",
    "version": 3
   },
   "file_extension": ".py",
   "mimetype": "text/x-python",
   "name": "python",
   "nbconvert_exporter": "python",
   "pygments_lexer": "ipython3",
   "version": "3.6.6"
  }
 },
 "nbformat": 4,
 "nbformat_minor": 1
}
